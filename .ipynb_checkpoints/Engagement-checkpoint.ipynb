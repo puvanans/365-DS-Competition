{
 "cells": [
  {
   "cell_type": "markdown",
   "id": "259775cb-27d0-4501-bc16-6057be9145fa",
   "metadata": {},
   "source": [
    "import pandas as pd\n",
    "import numpy as np\n",
    "%matplotlib inline\n",
    "import matplotlib.pyplot as plt\n",
    "import import_ipynb\n",
    "from Student_info import country_Student\n",
    "from Student_info import student_info## Engagement\n",
    "\n",
    "The data sourced from 365 has a seperate file title 'student_engagement'.\n",
    "However, exams and quizzes are not labelled with IDs meaning that repetition of exams and quizzes cannot be studied and understood.\n",
    "\n",
    "This notebook will prepare and combine data regarding student's interaction with exams, quizzes, and student hub questions. And thereby derive a nuanced understanding of student's engagement with the platform.\n",
    "\n",
    "#### Description\n",
    "\n",
    "My prospective oversight for this notebook involves:\n",
    "\n",
    " - Importing notebooks (exams, quizzes, student hub questions)\n",
    " - Data cleaning & prepping\n",
    " - Creating either a KPI or list of sorts to represent student IDs based on engagement?\n",
    " \n",
    "#### Update\n",
    "\n",
    "I have divided the student engagement sample into two categories (above & below avg engagement).\n",
    "\n",
    "From here much of the provided data can be divided based on engagement levels such as:\n",
    " - exams frequency and completion time.\n",
    " - quizzes freequency and completion time.\n",
    " - student hub questions.\n",
    " - student membership type? which type of membership is popular among the most and least engaged students.\n",
    " - Nationalities represented by engagement level."
   ]
  },
  {
   "cell_type": "code",
   "execution_count": 1,
   "id": "0cd7a2ba-6719-4d72-96ad-ac5f6a32bd01",
   "metadata": {},
   "outputs": [],
   "source": [
    "import pandas as pd\n",
    "import numpy as np\n",
    "%matplotlib inline\n",
    "import matplotlib.pyplot as plt\n",
    "import import_ipynb\n",
    "import collections"
   ]
  },
  {
   "cell_type": "code",
   "execution_count": 20,
   "id": "d0c536c0-97d6-423c-8b7d-a45e0da0ec2b",
   "metadata": {},
   "outputs": [
    {
     "ename": "ImportError",
     "evalue": "cannot import name 'registration_date_ordered' from 'Student_info' (Student_info.ipynb)",
     "output_type": "error",
     "traceback": [
      "\u001b[1;31m---------------------------------------------------------------------------\u001b[0m",
      "\u001b[1;31mImportError\u001b[0m                               Traceback (most recent call last)",
      "Input \u001b[1;32mIn [20]\u001b[0m, in \u001b[0;36m<cell line: 2>\u001b[1;34m()\u001b[0m\n\u001b[0;32m      1\u001b[0m \u001b[38;5;66;03m# Dependencies \u001b[39;00m\n\u001b[1;32m----> 2\u001b[0m \u001b[38;5;28;01mfrom\u001b[39;00m \u001b[38;5;21;01mStudent_info\u001b[39;00m \u001b[38;5;28;01mimport\u001b[39;00m country_Student,registration_date_ordered\n\u001b[0;32m      3\u001b[0m \u001b[38;5;28;01mfrom\u001b[39;00m \u001b[38;5;21;01mStudent_info\u001b[39;00m \u001b[38;5;28;01mimport\u001b[39;00m student_info\n\u001b[0;32m      4\u001b[0m \u001b[38;5;28;01mfrom\u001b[39;00m \u001b[38;5;21;01mstudent_hub_questions\u001b[39;00m \u001b[38;5;28;01mimport\u001b[39;00m student_hub_country\n",
      "\u001b[1;31mImportError\u001b[0m: cannot import name 'registration_date_ordered' from 'Student_info' (Student_info.ipynb)"
     ]
    }
   ],
   "source": [
    "# Dependencies \n",
    "from Student_info import country_Student,registration_date_ordered\n",
    "from Student_info import student_info\n",
    "from student_hub_questions import student_hub_country\n",
    "from student_exams import student_exam_by_country\n",
    "from student_quizzes import student_quiz_by_country\n",
    "from student_purchases import student_purchases_by_country\n",
    "\n",
    "# Dependencies from student_engagement\n",
    "from student_engagement import above_avg_countries, below_avg_countries, above_avg_ID, below_avg_ID, student_engagement_by_country\n",
    "# They are all dicts, Keys are labels and values are the frequency of representation\n",
    "\n"
   ]
  },
  {
   "cell_type": "code",
   "execution_count": 10,
   "id": "652d07a8-1cfb-4f1d-94b3-168a2eede7b3",
   "metadata": {},
   "outputs": [],
   "source": [
    "engagement_dates = student_engagement_by_country['date_engaged'].value_counts().to_dict()\n",
    "\n",
    "engagement_dates_ordered = collections.OrderedDict(sorted(engagement_dates.items()))\n",
    "\n",
    "# engagement_dates_ordered\n",
    "\n",
    "purchase_dates = student_purchases_by_country['date_purchased'].value_counts().to_dict()\n",
    "\n",
    "purchase_dates_ordered = collections.OrderedDict(sorted(purchase_dates.items()))\n",
    "\n",
    "# purchase_dates_ordered"
   ]
  },
  {
   "cell_type": "markdown",
   "id": "837f3645-eaab-408f-81bd-055b3f3974a0",
   "metadata": {},
   "source": [
    "The above cell contains two dictionaries for information on purchases and engagement.\n",
    "\n",
    "Keys are the dates and the values are the frequency of engagement or purchases respectively.\n",
    "\n",
    "From these two dictionaries we can track the level of engagement and purchases across time.\n",
    "\n",
    "##### Update\n",
    "\n",
    "Ordered the dictionaries containing both engagement and purchase dates using the collection module.\n",
    "\n"
   ]
  },
  {
   "cell_type": "code",
   "execution_count": 18,
   "id": "100c9689-54c2-41bd-91f6-d6f5c74a215b",
   "metadata": {},
   "outputs": [
    {
     "data": {
      "text/plain": [
       "<function matplotlib.pyplot.show(close=None, block=None)>"
      ]
     },
     "execution_count": 18,
     "metadata": {},
     "output_type": "execute_result"
    },
    {
     "data": {
      "image/png": "[encoded data removed]",
      "text/plain": [
       "<Figure size 640x480 with 1 Axes>"
      ]
     },
     "metadata": {},
     "output_type": "display_data"
    }
   ],
   "source": [
    "plt.bar(list(engagement_dates_ordered.keys()),engagement_dates_ordered.values(),color='g')\n",
    "plt.show"
   ]
  },
  {
   "cell_type": "code",
   "execution_count": 14,
   "id": "8c2b9f0d-d07f-4fa2-a324-8da3537a7326",
   "metadata": {},
   "outputs": [
    {
     "data": {
      "text/plain": [
       "<function matplotlib.pyplot.show(close=None, block=None)>"
      ]
     },
     "execution_count": 14,
     "metadata": {},
     "output_type": "execute_result"
    },
    {
     "data": {
      "image/png": "[encoded data removed]",
      "text/plain": [
       "<Figure size 640x480 with 1 Axes>"
      ]
     },
     "metadata": {},
     "output_type": "display_data"
    }
   ],
   "source": [
    "plt.bar(list(purchase_dates_ordered.keys()),purchase_dates_ordered.values(),color='g')\n",
    "plt.show"
   ]
  },
  {
   "cell_type": "code",
   "execution_count": 15,
   "id": "452cedfc-8488-489f-9f22-425656f16b6a",
   "metadata": {},
   "outputs": [
    {
     "data": {
      "text/plain": [
       "274861    57\n",
       "266001    27\n",
       "261777    27\n",
       "284438    27\n",
       "275129    22\n",
       "          ..\n",
       "268613     1\n",
       "270179     1\n",
       "282408     1\n",
       "268331     1\n",
       "288098     1\n",
       "Name: student_id, Length: 289, dtype: int64"
      ]
     },
     "execution_count": 15,
     "metadata": {},
     "output_type": "execute_result"
    }
   ],
   "source": [
    "student_hub_country['student_id'].value_counts()"
   ]
  }
 ],
 "metadata": {
  "kernelspec": {
   "display_name": "Python 3 (ipykernel)",
   "language": "python",
   "name": "python3"
  },
  "language_info": {
   "codemirror_mode": {
    "name": "ipython",
    "version": 3
   },
   "file_extension": ".py",
   "mimetype": "text/x-python",
   "name": "python",
   "nbconvert_exporter": "python",
   "pygments_lexer": "ipython3",
   "version": "3.10.6"
  }
 },
 "nbformat": 4,
 "nbformat_minor": 5
}
