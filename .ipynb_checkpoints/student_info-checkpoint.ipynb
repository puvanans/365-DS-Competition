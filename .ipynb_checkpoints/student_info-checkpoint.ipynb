{
 "cells": [
  {
   "cell_type": "markdown",
   "id": "55ee3453-e598-45d2-8969-c7afcae4f54d",
   "metadata": {},
   "source": [
    "## Student Data Exploration\n",
    "\n",
    "This dataframe contains over 30k entries. \n",
    "It includes \n",
    " - Student id\n",
    " - Student country\n",
    " - Date of registration.\n",
    "\n",
    "#### Questions\n",
    "\n",
    " - Which is the most & least represented country?\n",
    "     - Could be compared against previous year's data to understand trend and focus resources\n",
    "     - Understand the relationship between representation here and having sought help in the hub?\n",
    " - How is the date of registration spread?\n",
    "     - Are there different groupings of date of registration for different countries? (Check against Ad campaigns and offers to understand effectiveness)\n",
    " "
   ]
  },
  {
   "cell_type": "code",
   "execution_count": 1,
   "id": "19bc2f6a-e59c-496b-a8ec-959782cc8bec",
   "metadata": {},
   "outputs": [],
   "source": [
    "import pandas as pd\n",
    "import numpy as np\n",
    "%matplotlib inline\n",
    "import matplotlib.pyplot as plt"
   ]
  },
  {
   "cell_type": "code",
   "execution_count": 30,
   "id": "813e1a83-6f87-40fa-a3c2-efd6bf95122a",
   "metadata": {},
   "outputs": [
    {
     "name": "stdout",
     "output_type": "stream",
     "text": [
      "<class 'pandas.core.frame.DataFrame'>\n",
      "RangeIndex: 35230 entries, 0 to 35229\n",
      "Data columns (total 3 columns):\n",
      " #   Column           Non-Null Count  Dtype \n",
      "---  ------           --------------  ----- \n",
      " 0   student_id       35230 non-null  int64 \n",
      " 1   student_country  35217 non-null  object\n",
      " 2   date_registered  35230 non-null  object\n",
      "dtypes: int64(1), object(2)\n",
      "memory usage: 825.8+ KB\n"
     ]
    }
   ],
   "source": [
    "student_info = pd.read_csv('dataSets/365_database/365_student_info.csv')\n",
    "# student_info.head()\n",
    "student_info.info()\n",
    "# student_info.shape\n"
   ]
  },
  {
   "cell_type": "code",
   "execution_count": null,
   "id": "aee115d5-121d-47f8-8d8c-2815bda275c3",
   "metadata": {},
   "outputs": [],
   "source": []
  }
 ],
 "metadata": {
  "kernelspec": {
   "display_name": "Python 3 (ipykernel)",
   "language": "python",
   "name": "python3"
  },
  "language_info": {
   "codemirror_mode": {
    "name": "ipython",
    "version": 3
   },
   "file_extension": ".py",
   "mimetype": "text/x-python",
   "name": "python",
   "nbconvert_exporter": "python",
   "pygments_lexer": "ipython3",
   "version": "3.10.6"
  }
 },
 "nbformat": 4,
 "nbformat_minor": 5
}
