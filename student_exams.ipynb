{
 "cells": [
  {
   "cell_type": "code",
   "execution_count": null,
   "id": "04ca8503-cdfe-4200-8fa2-d444379562a3",
   "metadata": {},
   "outputs": [],
   "source": [
    "import pandas as pd\n",
    "import numpy as np\n",
    "%matplotlib inline\n",
    "import matplotlib.pyplot as plt"
   ]
  },
  {
   "cell_type": "code",
   "execution_count": 2,
   "id": "da7a26c6-1868-4c98-b6eb-068de4a411dc",
   "metadata": {},
   "outputs": [
    {
     "data": {
      "text/html": [
       "<div>\n",
       "<style scoped>\n",
       "    .dataframe tbody tr th:only-of-type {\n",
       "        vertical-align: middle;\n",
       "    }\n",
       "\n",
       "    .dataframe tbody tr th {\n",
       "        vertical-align: top;\n",
       "    }\n",
       "\n",
       "    .dataframe thead th {\n",
       "        text-align: right;\n",
       "    }\n",
       "</style>\n",
       "<table border=\"1\" class=\"dataframe\">\n",
       "  <thead>\n",
       "    <tr style=\"text-align: right;\">\n",
       "      <th></th>\n",
       "      <th>exam_attempt_id</th>\n",
       "      <th>student_id</th>\n",
       "      <th>exam_id</th>\n",
       "      <th>exam_result</th>\n",
       "      <th>exam_completion_time</th>\n",
       "      <th>date_exam_completed</th>\n",
       "    </tr>\n",
       "  </thead>\n",
       "  <tbody>\n",
       "    <tr>\n",
       "      <th>0</th>\n",
       "      <td>173311</td>\n",
       "      <td>258803</td>\n",
       "      <td>475</td>\n",
       "      <td>83</td>\n",
       "      <td>5.17</td>\n",
       "      <td>2022-01-01</td>\n",
       "    </tr>\n",
       "    <tr>\n",
       "      <th>1</th>\n",
       "      <td>173332</td>\n",
       "      <td>258815</td>\n",
       "      <td>380</td>\n",
       "      <td>0</td>\n",
       "      <td>10.02</td>\n",
       "      <td>2022-01-01</td>\n",
       "    </tr>\n",
       "    <tr>\n",
       "      <th>2</th>\n",
       "      <td>173333</td>\n",
       "      <td>258815</td>\n",
       "      <td>380</td>\n",
       "      <td>67</td>\n",
       "      <td>7.93</td>\n",
       "      <td>2022-01-01</td>\n",
       "    </tr>\n",
       "    <tr>\n",
       "      <th>3</th>\n",
       "      <td>173335</td>\n",
       "      <td>258815</td>\n",
       "      <td>380</td>\n",
       "      <td>100</td>\n",
       "      <td>0.60</td>\n",
       "      <td>2022-01-01</td>\n",
       "    </tr>\n",
       "    <tr>\n",
       "      <th>4</th>\n",
       "      <td>173336</td>\n",
       "      <td>258815</td>\n",
       "      <td>380</td>\n",
       "      <td>0</td>\n",
       "      <td>10.02</td>\n",
       "      <td>2022-01-01</td>\n",
       "    </tr>\n",
       "  </tbody>\n",
       "</table>\n",
       "</div>"
      ],
      "text/plain": [
       "   exam_attempt_id  student_id  exam_id  exam_result  exam_completion_time  \\\n",
       "0           173311      258803      475           83                  5.17   \n",
       "1           173332      258815      380            0                 10.02   \n",
       "2           173333      258815      380           67                  7.93   \n",
       "3           173335      258815      380          100                  0.60   \n",
       "4           173336      258815      380            0                 10.02   \n",
       "\n",
       "  date_exam_completed  \n",
       "0          2022-01-01  \n",
       "1          2022-01-01  \n",
       "2          2022-01-01  \n",
       "3          2022-01-01  \n",
       "4          2022-01-01  "
      ]
     },
     "execution_count": 2,
     "metadata": {},
     "output_type": "execute_result"
    }
   ],
   "source": [
    "student_exams = pd.read_csv('dataSets/365_database/365_student_exams.csv')\n",
    "student_exams.head()"
   ]
  },
  {
   "cell_type": "code",
   "execution_count": 3,
   "id": "c657a35d-275e-4f15-8b9c-5f411c869b83",
   "metadata": {},
   "outputs": [
    {
     "data": {
      "text/plain": [
       "276439    137\n",
       "264146    131\n",
       "261682    124\n",
       "267064    121\n",
       "261802    111\n",
       "         ... \n",
       "288024      1\n",
       "265367      1\n",
       "282252      1\n",
       "262634      1\n",
       "295234      1\n",
       "Name: student_id, Length: 3909, dtype: int64"
      ]
     },
     "execution_count": 3,
     "metadata": {},
     "output_type": "execute_result"
    }
   ],
   "source": [
    "student_exams['student_id'].value_counts()"
   ]
  }
 ],
 "metadata": {
  "kernelspec": {
   "display_name": "Python 3 (ipykernel)",
   "language": "python",
   "name": "python3"
  },
  "language_info": {
   "codemirror_mode": {
    "name": "ipython",
    "version": 3
   },
   "file_extension": ".py",
   "mimetype": "text/x-python",
   "name": "python",
   "nbconvert_exporter": "python",
   "pygments_lexer": "ipython3",
   "version": "3.10.6"
  }
 },
 "nbformat": 4,
 "nbformat_minor": 5
}
