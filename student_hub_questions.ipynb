{
 "cells": [
  {
   "cell_type": "code",
   "execution_count": 2,
   "id": "88408df8-8ee0-408e-847a-b2558c8d1868",
   "metadata": {},
   "outputs": [],
   "source": [
    "import pandas as pd\n",
    "import numpy as np\n",
    "%matplotlib inline\n",
    "import matplotlib.pyplot as plt\n",
    "import import_ipynb\n",
    "from Student_info import student_info\n"
   ]
  },
  {
   "cell_type": "code",
   "execution_count": 3,
   "id": "ae80c0dc-9069-42f9-9db5-7b1b15a1d8c8",
   "metadata": {},
   "outputs": [
    {
     "data": {
      "text/plain": [
       "274861    57\n",
       "266001    27\n",
       "261777    27\n",
       "284438    27\n",
       "275129    22\n",
       "          ..\n",
       "268613     1\n",
       "270179     1\n",
       "282408     1\n",
       "268331     1\n",
       "288098     1\n",
       "Name: student_id, Length: 289, dtype: int64"
      ]
     },
     "execution_count": 3,
     "metadata": {},
     "output_type": "execute_result"
    }
   ],
   "source": [
    "student_hub_questions = pd.read_csv('dataSets/365_database/365_student_hub_questions.csv')\n",
    "# student_hub_questions[student_hub_questions['student_id']==293967]\n",
    "student_hub_questions['student_id'].value_counts()"
   ]
  },
  {
   "cell_type": "code",
   "execution_count": 4,
   "id": "df4b7149-8d64-4b58-82d4-fbb24218b6f1",
   "metadata": {},
   "outputs": [
    {
     "data": {
      "text/plain": [
       "[261725,\n",
       " 262665,\n",
       " 272144,\n",
       " 278827,\n",
       " 282654,\n",
       " 282914,\n",
       " 283704,\n",
       " 283791,\n",
       " 284550,\n",
       " 284790,\n",
       " 286959,\n",
       " 290648,\n",
       " 293967]"
      ]
     },
     "execution_count": 4,
     "metadata": {},
     "output_type": "execute_result"
    }
   ],
   "source": [
    "missing_country_df = student_info[student_info.isnull().any(axis=1)]\n",
    "missing_country = missing_country_df['student_id'].tolist()\n",
    "(missing_country)"
   ]
  },
  {
   "cell_type": "code",
   "execution_count": 5,
   "id": "92c4fc1a-9259-450d-b05c-1df50c68211a",
   "metadata": {},
   "outputs": [
    {
     "data": {
      "text/html": [
       "<div>\n",
       "<style scoped>\n",
       "    .dataframe tbody tr th:only-of-type {\n",
       "        vertical-align: middle;\n",
       "    }\n",
       "\n",
       "    .dataframe tbody tr th {\n",
       "        vertical-align: top;\n",
       "    }\n",
       "\n",
       "    .dataframe thead th {\n",
       "        text-align: right;\n",
       "    }\n",
       "</style>\n",
       "<table border=\"1\" class=\"dataframe\">\n",
       "  <thead>\n",
       "    <tr style=\"text-align: right;\">\n",
       "      <th></th>\n",
       "      <th>hub_question_id</th>\n",
       "      <th>student_id</th>\n",
       "      <th>date_question_asked</th>\n",
       "    </tr>\n",
       "  </thead>\n",
       "  <tbody>\n",
       "    <tr>\n",
       "      <th>0</th>\n",
       "      <td>7619</td>\n",
       "      <td>258803</td>\n",
       "      <td>2022-01-03</td>\n",
       "    </tr>\n",
       "    <tr>\n",
       "      <th>1</th>\n",
       "      <td>7630</td>\n",
       "      <td>258803</td>\n",
       "      <td>2022-01-04</td>\n",
       "    </tr>\n",
       "    <tr>\n",
       "      <th>2</th>\n",
       "      <td>7662</td>\n",
       "      <td>259342</td>\n",
       "      <td>2022-01-05</td>\n",
       "    </tr>\n",
       "    <tr>\n",
       "      <th>3</th>\n",
       "      <td>7667</td>\n",
       "      <td>259391</td>\n",
       "      <td>2022-01-05</td>\n",
       "    </tr>\n",
       "    <tr>\n",
       "      <th>4</th>\n",
       "      <td>7668</td>\n",
       "      <td>259174</td>\n",
       "      <td>2022-01-05</td>\n",
       "    </tr>\n",
       "    <tr>\n",
       "      <th>...</th>\n",
       "      <td>...</td>\n",
       "      <td>...</td>\n",
       "      <td>...</td>\n",
       "    </tr>\n",
       "    <tr>\n",
       "      <th>822</th>\n",
       "      <td>10386</td>\n",
       "      <td>287473</td>\n",
       "      <td>2022-10-19</td>\n",
       "    </tr>\n",
       "    <tr>\n",
       "      <th>823</th>\n",
       "      <td>10387</td>\n",
       "      <td>287473</td>\n",
       "      <td>2022-10-19</td>\n",
       "    </tr>\n",
       "    <tr>\n",
       "      <th>824</th>\n",
       "      <td>10388</td>\n",
       "      <td>291121</td>\n",
       "      <td>2022-10-19</td>\n",
       "    </tr>\n",
       "    <tr>\n",
       "      <th>825</th>\n",
       "      <td>10404</td>\n",
       "      <td>274798</td>\n",
       "      <td>2022-10-20</td>\n",
       "    </tr>\n",
       "    <tr>\n",
       "      <th>826</th>\n",
       "      <td>10407</td>\n",
       "      <td>288098</td>\n",
       "      <td>2022-10-20</td>\n",
       "    </tr>\n",
       "  </tbody>\n",
       "</table>\n",
       "<p>827 rows × 3 columns</p>\n",
       "</div>"
      ],
      "text/plain": [
       "     hub_question_id  student_id date_question_asked\n",
       "0               7619      258803          2022-01-03\n",
       "1               7630      258803          2022-01-04\n",
       "2               7662      259342          2022-01-05\n",
       "3               7667      259391          2022-01-05\n",
       "4               7668      259174          2022-01-05\n",
       "..               ...         ...                 ...\n",
       "822            10386      287473          2022-10-19\n",
       "823            10387      287473          2022-10-19\n",
       "824            10388      291121          2022-10-19\n",
       "825            10404      274798          2022-10-20\n",
       "826            10407      288098          2022-10-20\n",
       "\n",
       "[827 rows x 3 columns]"
      ]
     },
     "execution_count": 5,
     "metadata": {},
     "output_type": "execute_result"
    }
   ],
   "source": [
    "df = student_hub_questions.copy()\n",
    "\n",
    "df_cleaned = df[~df['student_id'].isin(missing_country)]\n",
    "student_hub_questions_cleaned = df_cleaned.reset_index(drop=True)\n",
    "(student_hub_questions_cleaned)"
   ]
  },
  {
   "cell_type": "code",
   "execution_count": 9,
   "id": "8981d4fb-d753-453e-95c3-cb6c4d90fda1",
   "metadata": {},
   "outputs": [
    {
     "ename": "NameError",
     "evalue": "name 'country_Student' is not defined",
     "output_type": "error",
     "traceback": [
      "\u001b[1;31m---------------------------------------------------------------------------\u001b[0m",
      "\u001b[1;31mNameError\u001b[0m                                 Traceback (most recent call last)",
      "Input \u001b[1;32mIn [9]\u001b[0m, in \u001b[0;36m<cell line: 5>\u001b[1;34m()\u001b[0m\n\u001b[0;32m      5\u001b[0m \u001b[38;5;28;01mwhile\u001b[39;00m (i\u001b[38;5;241m<\u001b[39m\u001b[38;5;241m=\u001b[39mn):\n\u001b[0;32m      6\u001b[0m     x\u001b[38;5;241m=\u001b[39mstudent_hub_questions_cleaned[\u001b[38;5;124m'\u001b[39m\u001b[38;5;124mstudent_id\u001b[39m\u001b[38;5;124m'\u001b[39m]\u001b[38;5;241m.\u001b[39mloc[i]\n\u001b[1;32m----> 7\u001b[0m     y\u001b[38;5;241m=\u001b[39m\u001b[43mcountry_Student\u001b[49m[x]\n\u001b[0;32m      8\u001b[0m     country\u001b[38;5;241m.\u001b[39mappend(y)\n\u001b[0;32m      9\u001b[0m     i\u001b[38;5;241m=\u001b[39mi\u001b[38;5;241m+\u001b[39m\u001b[38;5;241m1\u001b[39m\n",
      "\u001b[1;31mNameError\u001b[0m: name 'country_Student' is not defined"
     ]
    }
   ],
   "source": [
    "country = []\n",
    "i = 0\n",
    "n = len(student_hub_questions_cleaned)-1\n",
    "\n",
    "while (i<=n):\n",
    "    x=student_hub_questions_cleaned['student_id'].loc[i]\n",
    "    y=country_Student[x]\n",
    "    country.append(y)\n",
    "    i=i+1"
   ]
  },
  {
   "cell_type": "code",
   "execution_count": 7,
   "id": "330dc430-67eb-4e68-972f-00fe928aa379",
   "metadata": {},
   "outputs": [
    {
     "name": "stdout",
     "output_type": "stream",
     "text": [
      "0\n"
     ]
    },
    {
     "data": {
      "text/html": [
       "<div>\n",
       "<style scoped>\n",
       "    .dataframe tbody tr th:only-of-type {\n",
       "        vertical-align: middle;\n",
       "    }\n",
       "\n",
       "    .dataframe tbody tr th {\n",
       "        vertical-align: top;\n",
       "    }\n",
       "\n",
       "    .dataframe thead th {\n",
       "        text-align: right;\n",
       "    }\n",
       "</style>\n",
       "<table border=\"1\" class=\"dataframe\">\n",
       "  <thead>\n",
       "    <tr style=\"text-align: right;\">\n",
       "      <th></th>\n",
       "      <th>country</th>\n",
       "    </tr>\n",
       "  </thead>\n",
       "  <tbody>\n",
       "  </tbody>\n",
       "</table>\n",
       "</div>"
      ],
      "text/plain": [
       "Empty DataFrame\n",
       "Columns: [country]\n",
       "Index: []"
      ]
     },
     "execution_count": 7,
     "metadata": {},
     "output_type": "execute_result"
    }
   ],
   "source": [
    "print(len(country))\n",
    "df_country = pd.DataFrame(country,columns = ['country'])\n",
    "df_country"
   ]
  },
  {
   "cell_type": "code",
   "execution_count": 8,
   "id": "079b3940-9170-4a51-98c9-ea449e1c0fa0",
   "metadata": {},
   "outputs": [
    {
     "data": {
      "text/html": [
       "<div>\n",
       "<style scoped>\n",
       "    .dataframe tbody tr th:only-of-type {\n",
       "        vertical-align: middle;\n",
       "    }\n",
       "\n",
       "    .dataframe tbody tr th {\n",
       "        vertical-align: top;\n",
       "    }\n",
       "\n",
       "    .dataframe thead th {\n",
       "        text-align: right;\n",
       "    }\n",
       "</style>\n",
       "<table border=\"1\" class=\"dataframe\">\n",
       "  <thead>\n",
       "    <tr style=\"text-align: right;\">\n",
       "      <th></th>\n",
       "      <th>hub_question_id</th>\n",
       "      <th>student_id</th>\n",
       "      <th>date_question_asked</th>\n",
       "      <th>country</th>\n",
       "    </tr>\n",
       "  </thead>\n",
       "  <tbody>\n",
       "    <tr>\n",
       "      <th>0</th>\n",
       "      <td>7619</td>\n",
       "      <td>258803</td>\n",
       "      <td>2022-01-03</td>\n",
       "      <td>NaN</td>\n",
       "    </tr>\n",
       "    <tr>\n",
       "      <th>1</th>\n",
       "      <td>7630</td>\n",
       "      <td>258803</td>\n",
       "      <td>2022-01-04</td>\n",
       "      <td>NaN</td>\n",
       "    </tr>\n",
       "    <tr>\n",
       "      <th>2</th>\n",
       "      <td>7662</td>\n",
       "      <td>259342</td>\n",
       "      <td>2022-01-05</td>\n",
       "      <td>NaN</td>\n",
       "    </tr>\n",
       "    <tr>\n",
       "      <th>3</th>\n",
       "      <td>7667</td>\n",
       "      <td>259391</td>\n",
       "      <td>2022-01-05</td>\n",
       "      <td>NaN</td>\n",
       "    </tr>\n",
       "    <tr>\n",
       "      <th>4</th>\n",
       "      <td>7668</td>\n",
       "      <td>259174</td>\n",
       "      <td>2022-01-05</td>\n",
       "      <td>NaN</td>\n",
       "    </tr>\n",
       "    <tr>\n",
       "      <th>...</th>\n",
       "      <td>...</td>\n",
       "      <td>...</td>\n",
       "      <td>...</td>\n",
       "      <td>...</td>\n",
       "    </tr>\n",
       "    <tr>\n",
       "      <th>822</th>\n",
       "      <td>10386</td>\n",
       "      <td>287473</td>\n",
       "      <td>2022-10-19</td>\n",
       "      <td>NaN</td>\n",
       "    </tr>\n",
       "    <tr>\n",
       "      <th>823</th>\n",
       "      <td>10387</td>\n",
       "      <td>287473</td>\n",
       "      <td>2022-10-19</td>\n",
       "      <td>NaN</td>\n",
       "    </tr>\n",
       "    <tr>\n",
       "      <th>824</th>\n",
       "      <td>10388</td>\n",
       "      <td>291121</td>\n",
       "      <td>2022-10-19</td>\n",
       "      <td>NaN</td>\n",
       "    </tr>\n",
       "    <tr>\n",
       "      <th>825</th>\n",
       "      <td>10404</td>\n",
       "      <td>274798</td>\n",
       "      <td>2022-10-20</td>\n",
       "      <td>NaN</td>\n",
       "    </tr>\n",
       "    <tr>\n",
       "      <th>826</th>\n",
       "      <td>10407</td>\n",
       "      <td>288098</td>\n",
       "      <td>2022-10-20</td>\n",
       "      <td>NaN</td>\n",
       "    </tr>\n",
       "  </tbody>\n",
       "</table>\n",
       "<p>827 rows × 4 columns</p>\n",
       "</div>"
      ],
      "text/plain": [
       "     hub_question_id  student_id date_question_asked country\n",
       "0               7619      258803          2022-01-03     NaN\n",
       "1               7630      258803          2022-01-04     NaN\n",
       "2               7662      259342          2022-01-05     NaN\n",
       "3               7667      259391          2022-01-05     NaN\n",
       "4               7668      259174          2022-01-05     NaN\n",
       "..               ...         ...                 ...     ...\n",
       "822            10386      287473          2022-10-19     NaN\n",
       "823            10387      287473          2022-10-19     NaN\n",
       "824            10388      291121          2022-10-19     NaN\n",
       "825            10404      274798          2022-10-20     NaN\n",
       "826            10407      288098          2022-10-20     NaN\n",
       "\n",
       "[827 rows x 4 columns]"
      ]
     },
     "execution_count": 8,
     "metadata": {},
     "output_type": "execute_result"
    }
   ],
   "source": [
    "frames = [student_hub_questions_cleaned, df_country]\n",
    "\n",
    "student_hub_country = pd.concat(frames,axis = 1)\n",
    "\n",
    "# len(student_hub_country['country'].unique())\n",
    "student_hub_country"
   ]
  },
  {
   "cell_type": "markdown",
   "id": "c1ed598a-6004-42eb-b055-9fa7881def96",
   "metadata": {},
   "source": [
    "This Dataframe will have to be split based on engagement level.\n",
    "\n",
    "Dictionaries of above and below avg student ID can be used to split this dataframe.\n"
   ]
  }
 ],
 "metadata": {
  "kernelspec": {
   "display_name": "Python 3 (ipykernel)",
   "language": "python",
   "name": "python3"
  },
  "language_info": {
   "codemirror_mode": {
    "name": "ipython",
    "version": 3
   },
   "file_extension": ".py",
   "mimetype": "text/x-python",
   "name": "python",
   "nbconvert_exporter": "python",
   "pygments_lexer": "ipython3",
   "version": "3.10.6"
  }
 },
 "nbformat": 4,
 "nbformat_minor": 5
}
