{
 "cells": [
  {
   "cell_type": "markdown",
   "id": "a2c6654c-93d5-4c5d-9338-109f166c8703",
   "metadata": {},
   "source": [
    "## Student Engagement\n",
    "\n",
    "Here we will explore the data on student engagement"
   ]
  },
  {
   "cell_type": "code",
   "execution_count": null,
   "id": "fcc268d0-dc75-434c-88b8-6304b880d0b8",
   "metadata": {},
   "outputs": [],
   "source": [
    "student_engagement = pd.read_csv('dataSets/365_database/365_student_engagement.csv')\n",
    "student_engagement.head()"
   ]
  }
 ],
 "metadata": {
  "kernelspec": {
   "display_name": "Python 3 (ipykernel)",
   "language": "python",
   "name": "python3"
  },
  "language_info": {
   "codemirror_mode": {
    "name": "ipython",
    "version": 3
   },
   "file_extension": ".py",
   "mimetype": "text/x-python",
   "name": "python",
   "nbconvert_exporter": "python",
   "pygments_lexer": "ipython3",
   "version": "3.10.6"
  }
 },
 "nbformat": 4,
 "nbformat_minor": 5
}
