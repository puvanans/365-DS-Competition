{
 "cells": [
  {
   "cell_type": "code",
   "execution_count": 116,
   "id": "2956c098-fd4a-47c6-8fe6-4f984b7379b9",
   "metadata": {},
   "outputs": [],
   "source": [
    "import pandas as pd\n",
    "import numpy as np\n",
    "%matplotlib inline\n",
    "import matplotlib.pyplot as plt\n",
    "from matplotlib.pyplot import figure\n",
    "import import_ipynb\n",
    "from Student_info import country_Student\n",
    "from Student_info import student_info\n",
    "from collections import Counter"
   ]
  },
  {
   "cell_type": "code",
   "execution_count": 3,
   "id": "96c24fed-b982-4465-b14c-72f71806fb16",
   "metadata": {},
   "outputs": [
    {
     "data": {
      "text/plain": [
       "array(['Annual', 'Monthly', 'Quarterly'], dtype=object)"
      ]
     },
     "execution_count": 3,
     "metadata": {},
     "output_type": "execute_result"
    }
   ],
   "source": [
    "student_purchases = pd.read_csv('dataSets/365_database/365_student_purchases.csv')\n",
    "student_purchases\n",
    "student_purchases['purchase_type'].unique()"
   ]
  },
  {
   "cell_type": "code",
   "execution_count": 4,
   "id": "4bb3a572-5d0c-41f5-adf8-f646aaea0a5e",
   "metadata": {},
   "outputs": [
    {
     "data": {
      "text/plain": [
       "[261725,\n",
       " 262665,\n",
       " 272144,\n",
       " 278827,\n",
       " 282654,\n",
       " 282914,\n",
       " 283704,\n",
       " 283791,\n",
       " 284550,\n",
       " 284790,\n",
       " 286959,\n",
       " 290648,\n",
       " 293967]"
      ]
     },
     "execution_count": 4,
     "metadata": {},
     "output_type": "execute_result"
    }
   ],
   "source": [
    "missing_country_df = student_info[student_info.isnull().any(axis=1)]\n",
    "missing_country = missing_country_df['student_id'].tolist()\n",
    "missing_country"
   ]
  },
  {
   "cell_type": "code",
   "execution_count": 5,
   "id": "9eccf59d-bb41-4433-9364-985a81bafe73",
   "metadata": {},
   "outputs": [
    {
     "data": {
      "text/html": [
       "<div>\n",
       "<style scoped>\n",
       "    .dataframe tbody tr th:only-of-type {\n",
       "        vertical-align: middle;\n",
       "    }\n",
       "\n",
       "    .dataframe tbody tr th {\n",
       "        vertical-align: top;\n",
       "    }\n",
       "\n",
       "    .dataframe thead th {\n",
       "        text-align: right;\n",
       "    }\n",
       "</style>\n",
       "<table border=\"1\" class=\"dataframe\">\n",
       "  <thead>\n",
       "    <tr style=\"text-align: right;\">\n",
       "      <th></th>\n",
       "      <th>purchase_id</th>\n",
       "      <th>student_id</th>\n",
       "      <th>purchase_type</th>\n",
       "      <th>date_purchased</th>\n",
       "    </tr>\n",
       "  </thead>\n",
       "  <tbody>\n",
       "    <tr>\n",
       "      <th>0</th>\n",
       "      <td>15781</td>\n",
       "      <td>258800</td>\n",
       "      <td>Annual</td>\n",
       "      <td>2022-01-01</td>\n",
       "    </tr>\n",
       "    <tr>\n",
       "      <th>1</th>\n",
       "      <td>15786</td>\n",
       "      <td>258803</td>\n",
       "      <td>Annual</td>\n",
       "      <td>2022-01-01</td>\n",
       "    </tr>\n",
       "    <tr>\n",
       "      <th>2</th>\n",
       "      <td>15808</td>\n",
       "      <td>258862</td>\n",
       "      <td>Annual</td>\n",
       "      <td>2022-01-01</td>\n",
       "    </tr>\n",
       "    <tr>\n",
       "      <th>3</th>\n",
       "      <td>15809</td>\n",
       "      <td>258865</td>\n",
       "      <td>Annual</td>\n",
       "      <td>2022-01-01</td>\n",
       "    </tr>\n",
       "    <tr>\n",
       "      <th>4</th>\n",
       "      <td>15811</td>\n",
       "      <td>258878</td>\n",
       "      <td>Annual</td>\n",
       "      <td>2022-01-01</td>\n",
       "    </tr>\n",
       "    <tr>\n",
       "      <th>...</th>\n",
       "      <td>...</td>\n",
       "      <td>...</td>\n",
       "      <td>...</td>\n",
       "      <td>...</td>\n",
       "    </tr>\n",
       "    <tr>\n",
       "      <th>3035</th>\n",
       "      <td>23148</td>\n",
       "      <td>278055</td>\n",
       "      <td>Monthly</td>\n",
       "      <td>2022-10-20</td>\n",
       "    </tr>\n",
       "    <tr>\n",
       "      <th>3036</th>\n",
       "      <td>23150</td>\n",
       "      <td>270103</td>\n",
       "      <td>Annual</td>\n",
       "      <td>2022-10-20</td>\n",
       "    </tr>\n",
       "    <tr>\n",
       "      <th>3037</th>\n",
       "      <td>23151</td>\n",
       "      <td>270824</td>\n",
       "      <td>Monthly</td>\n",
       "      <td>2022-10-20</td>\n",
       "    </tr>\n",
       "    <tr>\n",
       "      <th>3038</th>\n",
       "      <td>23152</td>\n",
       "      <td>295497</td>\n",
       "      <td>Monthly</td>\n",
       "      <td>2022-10-20</td>\n",
       "    </tr>\n",
       "    <tr>\n",
       "      <th>3039</th>\n",
       "      <td>23153</td>\n",
       "      <td>295506</td>\n",
       "      <td>Annual</td>\n",
       "      <td>2022-10-20</td>\n",
       "    </tr>\n",
       "  </tbody>\n",
       "</table>\n",
       "<p>3040 rows × 4 columns</p>\n",
       "</div>"
      ],
      "text/plain": [
       "      purchase_id  student_id purchase_type date_purchased\n",
       "0           15781      258800        Annual     2022-01-01\n",
       "1           15786      258803        Annual     2022-01-01\n",
       "2           15808      258862        Annual     2022-01-01\n",
       "3           15809      258865        Annual     2022-01-01\n",
       "4           15811      258878        Annual     2022-01-01\n",
       "...           ...         ...           ...            ...\n",
       "3035        23148      278055       Monthly     2022-10-20\n",
       "3036        23150      270103        Annual     2022-10-20\n",
       "3037        23151      270824       Monthly     2022-10-20\n",
       "3038        23152      295497       Monthly     2022-10-20\n",
       "3039        23153      295506        Annual     2022-10-20\n",
       "\n",
       "[3040 rows x 4 columns]"
      ]
     },
     "execution_count": 5,
     "metadata": {},
     "output_type": "execute_result"
    }
   ],
   "source": [
    "df = student_purchases.copy()\n",
    "\n",
    "df_cleaned = df[~df['student_id'].isin(missing_country)]\n",
    "student_purchases_cleaned = df_cleaned.reset_index(drop=True)\n",
    "(student_purchases_cleaned)"
   ]
  },
  {
   "cell_type": "code",
   "execution_count": 6,
   "id": "9dcf90d8-75ee-4798-a688-fa868478f81d",
   "metadata": {},
   "outputs": [],
   "source": [
    "country = []\n",
    "i = 0\n",
    "n = len(student_purchases_cleaned)-1\n",
    "\n",
    "while (i<=n):\n",
    "    x=student_purchases_cleaned['student_id'].loc[i]\n",
    "    y=country_Student[x]\n",
    "    country.append(y)\n",
    "    i=i+1"
   ]
  },
  {
   "cell_type": "code",
   "execution_count": 7,
   "id": "cc92f0fc-bc67-4dd6-a00d-f966c40ecf2c",
   "metadata": {},
   "outputs": [
    {
     "name": "stdout",
     "output_type": "stream",
     "text": [
      "3040\n"
     ]
    },
    {
     "data": {
      "text/html": [
       "<div>\n",
       "<style scoped>\n",
       "    .dataframe tbody tr th:only-of-type {\n",
       "        vertical-align: middle;\n",
       "    }\n",
       "\n",
       "    .dataframe tbody tr th {\n",
       "        vertical-align: top;\n",
       "    }\n",
       "\n",
       "    .dataframe thead th {\n",
       "        text-align: right;\n",
       "    }\n",
       "</style>\n",
       "<table border=\"1\" class=\"dataframe\">\n",
       "  <thead>\n",
       "    <tr style=\"text-align: right;\">\n",
       "      <th></th>\n",
       "      <th>country</th>\n",
       "    </tr>\n",
       "  </thead>\n",
       "  <tbody>\n",
       "    <tr>\n",
       "      <th>0</th>\n",
       "      <td>CA</td>\n",
       "    </tr>\n",
       "    <tr>\n",
       "      <th>1</th>\n",
       "      <td>US</td>\n",
       "    </tr>\n",
       "    <tr>\n",
       "      <th>2</th>\n",
       "      <td>NL</td>\n",
       "    </tr>\n",
       "    <tr>\n",
       "      <th>3</th>\n",
       "      <td>CA</td>\n",
       "    </tr>\n",
       "    <tr>\n",
       "      <th>4</th>\n",
       "      <td>CA</td>\n",
       "    </tr>\n",
       "    <tr>\n",
       "      <th>...</th>\n",
       "      <td>...</td>\n",
       "    </tr>\n",
       "    <tr>\n",
       "      <th>3035</th>\n",
       "      <td>ZW</td>\n",
       "    </tr>\n",
       "    <tr>\n",
       "      <th>3036</th>\n",
       "      <td>GB</td>\n",
       "    </tr>\n",
       "    <tr>\n",
       "      <th>3037</th>\n",
       "      <td>US</td>\n",
       "    </tr>\n",
       "    <tr>\n",
       "      <th>3038</th>\n",
       "      <td>NL</td>\n",
       "    </tr>\n",
       "    <tr>\n",
       "      <th>3039</th>\n",
       "      <td>GB</td>\n",
       "    </tr>\n",
       "  </tbody>\n",
       "</table>\n",
       "<p>3040 rows × 1 columns</p>\n",
       "</div>"
      ],
      "text/plain": [
       "     country\n",
       "0         CA\n",
       "1         US\n",
       "2         NL\n",
       "3         CA\n",
       "4         CA\n",
       "...      ...\n",
       "3035      ZW\n",
       "3036      GB\n",
       "3037      US\n",
       "3038      NL\n",
       "3039      GB\n",
       "\n",
       "[3040 rows x 1 columns]"
      ]
     },
     "execution_count": 7,
     "metadata": {},
     "output_type": "execute_result"
    }
   ],
   "source": [
    "print(len(country))\n",
    "df_country = pd.DataFrame(country,columns = ['country'])\n",
    "df_country"
   ]
  },
  {
   "cell_type": "code",
   "execution_count": 8,
   "id": "74e2469f-d3f4-43b7-be4d-12308df24685",
   "metadata": {},
   "outputs": [
    {
     "name": "stdout",
     "output_type": "stream",
     "text": [
      "<class 'pandas.core.frame.DataFrame'>\n",
      "RangeIndex: 3040 entries, 0 to 3039\n",
      "Data columns (total 5 columns):\n",
      " #   Column          Non-Null Count  Dtype \n",
      "---  ------          --------------  ----- \n",
      " 0   purchase_id     3040 non-null   int64 \n",
      " 1   student_id      3040 non-null   int64 \n",
      " 2   purchase_type   3040 non-null   object\n",
      " 3   date_purchased  3040 non-null   object\n",
      " 4   country         3040 non-null   object\n",
      "dtypes: int64(2), object(3)\n",
      "memory usage: 118.9+ KB\n",
      "None\n"
     ]
    }
   ],
   "source": [
    "frames = [student_purchases_cleaned, df_country]\n",
    "\n",
    "student_purchases_by_country = pd.concat(frames,axis = 1)\n",
    "\n",
    "print(student_purchases_by_country.info())\n",
    "# print(student_purchases_by_country.describe())"
   ]
  },
  {
   "cell_type": "code",
   "execution_count": 131,
   "id": "9bea920d-5942-44f0-b2d0-9e318df0d00c",
   "metadata": {},
   "outputs": [
    {
     "data": {
      "text/plain": [
       "277"
      ]
     },
     "execution_count": 131,
     "metadata": {},
     "output_type": "execute_result"
    }
   ],
   "source": [
    "student_purchase_annual =student_purchases_by_country[student_purchases_by_country['purchase_type']=='Annual'].reset_index(drop=True)\n",
    "student_purchase_quarterly =student_purchases_by_country[student_purchases_by_country['purchase_type']=='Quarterly'].reset_index(drop=True)\n",
    "student_purchase_monthly =student_purchases_by_country[student_purchases_by_country['purchase_type']=='Monthly'].reset_index(drop=True)\n",
    "len(student_purchase_annual['date_purchased'].unique())"
   ]
  },
  {
   "cell_type": "markdown",
   "id": "8e28b758-b443-48b8-9940-52a659a6d306",
   "metadata": {},
   "source": [
    "From the above dataframe we can track the number and type of subscriptions purchased across time.\n",
    "\n",
    "<mark>'date_purchased'</mark> will be extracted from these dataframes, exported as Excel files and then, visualized (line graphs? in Tableau Public."
   ]
  },
  {
   "cell_type": "code",
   "execution_count": 139,
   "id": "2f7f3a6e-d306-4050-bb23-a663f8e875b4",
   "metadata": {},
   "outputs": [],
   "source": [
    "annual_dates = pd.DataFrame(student_purchase_annual['date_purchased'])\n",
    "annual_dates.to_excel('annual_dates.xlsx')\n",
    "\n",
    "quarterly_dates = pd.DataFrame(student_purchase_quarterly['date_purchased'])\n",
    "quarterly_dates.to_excel('quarterly_dates.xlsx')\n",
    "\n",
    "monthly_dates = pd.DataFrame(student_purchase_monthly['date_purchased'])\n",
    "monthly_dates.to_excel('monthly_dates.xlsx')"
   ]
  },
  {
   "cell_type": "code",
   "execution_count": 40,
   "id": "f53c11f9-4b68-4110-805c-a563c4f5e378",
   "metadata": {},
   "outputs": [
    {
     "name": "stdout",
     "output_type": "stream",
     "text": [
      "45\n"
     ]
    },
    {
     "data": {
      "image/png": "[encoded data removed]",
      "text/plain": [
       "<Figure size 640x480 with 1 Axes>"
      ]
     },
     "metadata": {},
     "output_type": "display_data"
    }
   ],
   "source": [
    "quarterly_date = student_purchase_quarterly['date_purchased']\n",
    "quarterly_purchase_days = len(student_purchase_quarterly['date_purchased'].unique())\n",
    "print(quarterly_purchase_days)\n",
    "plt.hist(quarterly_date, bins = annual_purchase_days)\n",
    "plt.show()"
   ]
  },
  {
   "cell_type": "code",
   "execution_count": 39,
   "id": "61b4d617-b8c7-47bf-9fea-878a58eda71c",
   "metadata": {},
   "outputs": [
    {
     "name": "stdout",
     "output_type": "stream",
     "text": [
      "284\n"
     ]
    },
    {
     "data": {
      "image/png": "[encoded data removed]",
      "text/plain": [
       "<Figure size 640x480 with 1 Axes>"
      ]
     },
     "metadata": {},
     "output_type": "display_data"
    }
   ],
   "source": [
    "monthly_date = student_purchase_monthly['date_purchased']\n",
    "monthly_purchase_days = len(student_purchase_monthly['date_purchased'].unique())\n",
    "print(monthly_purchase_days)\n",
    "plt.hist(monthly_date, bins = monthly_purchase_days)\n",
    "plt.show()"
   ]
  }
 ],
 "metadata": {
  "kernelspec": {
   "display_name": "Python 3 (ipykernel)",
   "language": "python",
   "name": "python3"
  },
  "language_info": {
   "codemirror_mode": {
    "name": "ipython",
    "version": 3
   },
   "file_extension": ".py",
   "mimetype": "text/x-python",
   "name": "python",
   "nbconvert_exporter": "python",
   "pygments_lexer": "ipython3",
   "version": "3.10.6"
  }
 },
 "nbformat": 4,
 "nbformat_minor": 5
}
