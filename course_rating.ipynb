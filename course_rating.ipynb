{
 "cells": [
  {
   "cell_type": "markdown",
   "id": "fe8d91ef-c0b8-4d45-a3f9-964c47e5b38d",
   "metadata": {},
   "source": [
    "## Course Rating\n",
    "\n",
    "This dataframe contains the ratings given for courses by students.\n",
    "\n",
    "It has recorded the student ID, the rating given by the student, and the course for which they have given the rating.\n",
    "\n",
    "### Questions\n",
    "\n",
    " - Which courses have the most & least number of ratings?\n",
    " - Are there trends in giving ratings based on nationalities?\n",
    " - Could this data be corroborated with information from other Dataframes?"
   ]
  },
  {
   "cell_type": "code",
   "execution_count": 2,
   "id": "66f750cd-d180-46d8-b780-8a4956693436",
   "metadata": {},
   "outputs": [],
   "source": [
    "import pandas as pd\n",
    "import numpy as np\n",
    "%matplotlib inline\n",
    "import matplotlib.pyplot as plt"
   ]
  },
  {
   "cell_type": "code",
   "execution_count": 9,
   "id": "41748042-0b2e-49c2-b320-7305739d0ae3",
   "metadata": {},
   "outputs": [
    {
     "data": {
      "text/html": [
       "<div>\n",
       "<style scoped>\n",
       "    .dataframe tbody tr th:only-of-type {\n",
       "        vertical-align: middle;\n",
       "    }\n",
       "\n",
       "    .dataframe tbody tr th {\n",
       "        vertical-align: top;\n",
       "    }\n",
       "\n",
       "    .dataframe thead th {\n",
       "        text-align: right;\n",
       "    }\n",
       "</style>\n",
       "<table border=\"1\" class=\"dataframe\">\n",
       "  <thead>\n",
       "    <tr style=\"text-align: right;\">\n",
       "      <th></th>\n",
       "      <th>course_id</th>\n",
       "      <th>student_id</th>\n",
       "      <th>course_rating</th>\n",
       "      <th>date_rated</th>\n",
       "    </tr>\n",
       "  </thead>\n",
       "  <tbody>\n",
       "    <tr>\n",
       "      <th>0</th>\n",
       "      <td>14</td>\n",
       "      <td>258956</td>\n",
       "      <td>5</td>\n",
       "      <td>2022-07-06</td>\n",
       "    </tr>\n",
       "    <tr>\n",
       "      <th>1</th>\n",
       "      <td>7</td>\n",
       "      <td>259019</td>\n",
       "      <td>5</td>\n",
       "      <td>2022-08-30</td>\n",
       "    </tr>\n",
       "    <tr>\n",
       "      <th>2</th>\n",
       "      <td>23</td>\n",
       "      <td>259019</td>\n",
       "      <td>4</td>\n",
       "      <td>2022-08-30</td>\n",
       "    </tr>\n",
       "    <tr>\n",
       "      <th>3</th>\n",
       "      <td>14</td>\n",
       "      <td>259283</td>\n",
       "      <td>5</td>\n",
       "      <td>2022-07-08</td>\n",
       "    </tr>\n",
       "    <tr>\n",
       "      <th>4</th>\n",
       "      <td>30</td>\n",
       "      <td>259283</td>\n",
       "      <td>5</td>\n",
       "      <td>2022-07-02</td>\n",
       "    </tr>\n",
       "    <tr>\n",
       "      <th>5</th>\n",
       "      <td>37</td>\n",
       "      <td>259283</td>\n",
       "      <td>5</td>\n",
       "      <td>2022-10-12</td>\n",
       "    </tr>\n",
       "    <tr>\n",
       "      <th>6</th>\n",
       "      <td>23</td>\n",
       "      <td>259504</td>\n",
       "      <td>5</td>\n",
       "      <td>2022-06-29</td>\n",
       "    </tr>\n",
       "    <tr>\n",
       "      <th>7</th>\n",
       "      <td>46</td>\n",
       "      <td>259504</td>\n",
       "      <td>5</td>\n",
       "      <td>2022-06-28</td>\n",
       "    </tr>\n",
       "    <tr>\n",
       "      <th>8</th>\n",
       "      <td>30</td>\n",
       "      <td>259524</td>\n",
       "      <td>5</td>\n",
       "      <td>2022-06-16</td>\n",
       "    </tr>\n",
       "    <tr>\n",
       "      <th>9</th>\n",
       "      <td>54</td>\n",
       "      <td>259524</td>\n",
       "      <td>5</td>\n",
       "      <td>2022-07-25</td>\n",
       "    </tr>\n",
       "  </tbody>\n",
       "</table>\n",
       "</div>"
      ],
      "text/plain": [
       "   course_id  student_id  course_rating  date_rated\n",
       "0         14      258956              5  2022-07-06\n",
       "1          7      259019              5  2022-08-30\n",
       "2         23      259019              4  2022-08-30\n",
       "3         14      259283              5  2022-07-08\n",
       "4         30      259283              5  2022-07-02\n",
       "5         37      259283              5  2022-10-12\n",
       "6         23      259504              5  2022-06-29\n",
       "7         46      259504              5  2022-06-28\n",
       "8         30      259524              5  2022-06-16\n",
       "9         54      259524              5  2022-07-25"
      ]
     },
     "execution_count": 9,
     "metadata": {},
     "output_type": "execute_result"
    }
   ],
   "source": [
    "course_rating = pd.read_csv('dataSets/365_database/365_course_ratings.csv')\n",
    "course_rating.head(10)"
   ]
  },
  {
   "cell_type": "code",
   "execution_count": 8,
   "id": "38c7423b-81d6-4969-863a-b85c8789159c",
   "metadata": {},
   "outputs": [
    {
     "data": {
      "text/plain": [
       "7     572\n",
       "23    242\n",
       "21    215\n",
       "42    154\n",
       "14    125\n",
       "16    101\n",
       "35    100\n",
       "13     90\n",
       "46     72\n",
       "24     61\n",
       "22     60\n",
       "20     57\n",
       "11     53\n",
       "39     50\n",
       "28     47\n",
       "37     42\n",
       "30     41\n",
       "2      40\n",
       "3      34\n",
       "5      31\n",
       "26     26\n",
       "4      25\n",
       "25     21\n",
       "54     18\n",
       "50     17\n",
       "29     17\n",
       "15     17\n",
       "45     16\n",
       "55     15\n",
       "12     14\n",
       "32     13\n",
       "53     12\n",
       "34     11\n",
       "33     11\n",
       "43     11\n",
       "52     11\n",
       "27     11\n",
       "36     10\n",
       "44      8\n",
       "49      7\n",
       "19      7\n",
       "51      6\n",
       "41      4\n",
       "48      4\n",
       "57      1\n",
       "Name: course_id, dtype: int64"
      ]
     },
     "execution_count": 8,
     "metadata": {},
     "output_type": "execute_result"
    }
   ],
   "source": [
    "(course_rating['course_id'].value_counts())"
   ]
  },
  {
   "cell_type": "code",
   "execution_count": 10,
   "id": "429642ff-6a1a-4fc0-8980-f3b86c670689",
   "metadata": {},
   "outputs": [
    {
     "data": {
      "text/plain": [
       "280613    20\n",
       "276439    14\n",
       "295177    13\n",
       "277886    13\n",
       "269204    13\n",
       "          ..\n",
       "281413     1\n",
       "281501     1\n",
       "281528     1\n",
       "281556     1\n",
       "295466     1\n",
       "Name: student_id, Length: 1287, dtype: int64"
      ]
     },
     "execution_count": 10,
     "metadata": {},
     "output_type": "execute_result"
    }
   ],
   "source": [
    "(course_rating['student_id'].value_counts())"
   ]
  }
 ],
 "metadata": {
  "kernelspec": {
   "display_name": "Python 3 (ipykernel)",
   "language": "python",
   "name": "python3"
  },
  "language_info": {
   "codemirror_mode": {
    "name": "ipython",
    "version": 3
   },
   "file_extension": ".py",
   "mimetype": "text/x-python",
   "name": "python",
   "nbconvert_exporter": "python",
   "pygments_lexer": "ipython3",
   "version": "3.10.6"
  }
 },
 "nbformat": 4,
 "nbformat_minor": 5
}
