{
 "cells": [
  {
   "cell_type": "markdown",
   "id": "55ee3453-e598-45d2-8969-c7afcae4f54d",
   "metadata": {},
   "source": [
    "## Student Data Exploration\n",
    "\n",
    "This dataframe contains over 30k entries. \n",
    "It includes \n",
    " - Student id\n",
    " - Student country\n",
    " - Date of registration.\n",
    "\n",
    "#### Questions\n",
    "\n",
    " - Which is the most & least represented country?\n",
    "     - Could be compared against previous year's data to understand trend and focus resources\n",
    "     - Understand the relationship between representation here and having sought help in the hub?\n",
    " - How is the date of registration spread?\n",
    "     - Are there different groupings of date of registration for different countries? (Check against Ad campaigns and offers to understand effectiveness)\n",
    " "
   ]
  },
  {
   "cell_type": "code",
   "execution_count": 1,
   "id": "19bc2f6a-e59c-496b-a8ec-959782cc8bec",
   "metadata": {},
   "outputs": [],
   "source": [
    "import pandas as pd\n",
    "import numpy as np\n",
    "%matplotlib inline\n",
    "import matplotlib.pyplot as plt"
   ]
  },
  {
   "cell_type": "code",
   "execution_count": 73,
   "id": "813e1a83-6f87-40fa-a3c2-efd6bf95122a",
   "metadata": {},
   "outputs": [
    {
     "name": "stdout",
     "output_type": "stream",
     "text": [
      "<class 'pandas.core.frame.DataFrame'>\n",
      "RangeIndex: 35230 entries, 0 to 35229\n",
      "Data columns (total 3 columns):\n",
      " #   Column           Non-Null Count  Dtype \n",
      "---  ------           --------------  ----- \n",
      " 0   student_id       35230 non-null  int64 \n",
      " 1   student_country  35217 non-null  object\n",
      " 2   date_registered  35230 non-null  object\n",
      "dtypes: int64(1), object(2)\n",
      "memory usage: 825.8+ KB\n"
     ]
    },
    {
     "data": {
      "text/plain": [
       "(35230, 3)"
      ]
     },
     "execution_count": 73,
     "metadata": {},
     "output_type": "execute_result"
    }
   ],
   "source": [
    "student_info = pd.read_csv('dataSets/365_database/365_student_info.csv')\n",
    "\n",
    "student_info.head()\n",
    "\n",
    "student_info.info()\n",
    "\n",
    "student_info.shape\n"
   ]
  },
  {
   "cell_type": "markdown",
   "id": "441450ba-740c-4c74-9b96-b2b01d231a4a",
   "metadata": {},
   "source": [
    "In this dataframe only the country column has missing values."
   ]
  },
  {
   "cell_type": "code",
   "execution_count": 53,
   "id": "aee115d5-121d-47f8-8d8c-2815bda275c3",
   "metadata": {},
   "outputs": [],
   "source": [
    "student_info_cleaned = student_info.dropna()\n"
   ]
  },
  {
   "cell_type": "markdown",
   "id": "ed252c79-b907-4ffe-b08a-3f76c6f0b02d",
   "metadata": {},
   "source": [
    "Cleaned the original dataframe by removing rows with missing values for country."
   ]
  },
  {
   "cell_type": "code",
   "execution_count": 120,
   "id": "6b7f1893-d3da-4d13-ae86-ebd3518a89d7",
   "metadata": {},
   "outputs": [
    {
     "data": {
      "text/plain": [
       "IN    6933\n",
       "US    4768\n",
       "EG    3003\n",
       "GB    1748\n",
       "NG    1718\n",
       "      ... \n",
       "SR       1\n",
       "RE       1\n",
       "BI       1\n",
       "GY       1\n",
       "BM       1\n",
       "Name: student_country, Length: 180, dtype: int64"
      ]
     },
     "execution_count": 120,
     "metadata": {},
     "output_type": "execute_result"
    }
   ],
   "source": [
    "country_frequency = (student_info_cleaned['student_country'].value_counts())\n",
    "country_frequency"
   ]
  },
  {
   "cell_type": "markdown",
   "id": "f3acd2ad-cc40-4113-984c-41ab3e846dd5",
   "metadata": {},
   "source": [
    "The value_count() function returns a series of unique values and the frequency of their occurrence.\n",
    "\n",
    "By applying it on the country column \n",
    "    <mark>student_info_cleaned['student_country'].value_counts()</mark>\n",
    "we are able to return a series containing a list of countries and how often they appear in the dataframe.\n",
    "\n",
    "This series will be contained in a variable which will then be used to create a dataframe."
   ]
  },
  {
   "cell_type": "code",
   "execution_count": 124,
   "id": "afa225f1-ed4a-48cf-bfc3-468d156dc977",
   "metadata": {},
   "outputs": [
    {
     "data": {
      "text/html": [
       "<div>\n",
       "<style scoped>\n",
       "    .dataframe tbody tr th:only-of-type {\n",
       "        vertical-align: middle;\n",
       "    }\n",
       "\n",
       "    .dataframe tbody tr th {\n",
       "        vertical-align: top;\n",
       "    }\n",
       "\n",
       "    .dataframe thead th {\n",
       "        text-align: right;\n",
       "    }\n",
       "</style>\n",
       "<table border=\"1\" class=\"dataframe\">\n",
       "  <thead>\n",
       "    <tr style=\"text-align: right;\">\n",
       "      <th></th>\n",
       "      <th>Country</th>\n",
       "      <th>No,of students</th>\n",
       "    </tr>\n",
       "  </thead>\n",
       "  <tbody>\n",
       "    <tr>\n",
       "      <th>0</th>\n",
       "      <td>IN</td>\n",
       "      <td>6933</td>\n",
       "    </tr>\n",
       "    <tr>\n",
       "      <th>1</th>\n",
       "      <td>US</td>\n",
       "      <td>4768</td>\n",
       "    </tr>\n",
       "    <tr>\n",
       "      <th>2</th>\n",
       "      <td>EG</td>\n",
       "      <td>3003</td>\n",
       "    </tr>\n",
       "    <tr>\n",
       "      <th>3</th>\n",
       "      <td>GB</td>\n",
       "      <td>1748</td>\n",
       "    </tr>\n",
       "    <tr>\n",
       "      <th>4</th>\n",
       "      <td>NG</td>\n",
       "      <td>1718</td>\n",
       "    </tr>\n",
       "    <tr>\n",
       "      <th>...</th>\n",
       "      <td>...</td>\n",
       "      <td>...</td>\n",
       "    </tr>\n",
       "    <tr>\n",
       "      <th>175</th>\n",
       "      <td>SR</td>\n",
       "      <td>1</td>\n",
       "    </tr>\n",
       "    <tr>\n",
       "      <th>176</th>\n",
       "      <td>RE</td>\n",
       "      <td>1</td>\n",
       "    </tr>\n",
       "    <tr>\n",
       "      <th>177</th>\n",
       "      <td>BI</td>\n",
       "      <td>1</td>\n",
       "    </tr>\n",
       "    <tr>\n",
       "      <th>178</th>\n",
       "      <td>GY</td>\n",
       "      <td>1</td>\n",
       "    </tr>\n",
       "    <tr>\n",
       "      <th>179</th>\n",
       "      <td>BM</td>\n",
       "      <td>1</td>\n",
       "    </tr>\n",
       "  </tbody>\n",
       "</table>\n",
       "<p>180 rows × 2 columns</p>\n",
       "</div>"
      ],
      "text/plain": [
       "    Country  No,of students\n",
       "0        IN            6933\n",
       "1        US            4768\n",
       "2        EG            3003\n",
       "3        GB            1748\n",
       "4        NG            1718\n",
       "..      ...             ...\n",
       "175      SR               1\n",
       "176      RE               1\n",
       "177      BI               1\n",
       "178      GY               1\n",
       "179      BM               1\n",
       "\n",
       "[180 rows x 2 columns]"
      ]
     },
     "execution_count": 124,
     "metadata": {},
     "output_type": "execute_result"
    }
   ],
   "source": [
    "student_by_countries = pd.DataFrame(country_frequency).reset_index().rename(columns={'index':'Country','student_country':'No,of students'})\n",
    "\n",
    "student_by_countries\n"
   ]
  },
  {
   "cell_type": "markdown",
   "id": "5f1d6334-c536-4644-80c7-79de1ac753eb",
   "metadata": {},
   "source": [
    "The above cell:\n",
    " - Creates a dataframe using the series from the preceding cell.\n",
    " - Resets the index: It adds the previous index (country name) to the dataframe as a column. and replaces it with a conventional index.\n",
    " - Renames the column for quicker understanding.\n",
    "\n",
    "The dataframe itself contains in descending order countries most represented to least represented. For us, this shows where most of our students population is from, and where the least is from as well."
   ]
  }
 ],
 "metadata": {
  "kernelspec": {
   "display_name": "Python 3 (ipykernel)",
   "language": "python",
   "name": "python3"
  },
  "language_info": {
   "codemirror_mode": {
    "name": "ipython",
    "version": 3
   },
   "file_extension": ".py",
   "mimetype": "text/x-python",
   "name": "python",
   "nbconvert_exporter": "python",
   "pygments_lexer": "ipython3",
   "version": "3.10.6"
  }
 },
 "nbformat": 4,
 "nbformat_minor": 5
}
