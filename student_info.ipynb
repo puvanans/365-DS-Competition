{
 "cells": [
  {
   "cell_type": "markdown",
   "id": "5fbec0d1-44f4-4023-9316-1c15f9f38b92",
   "metadata": {},
   "source": [
    "## Student Data Exploration\n",
    "\n",
    "This dataframe contains over 30k entries. \n",
    "It includes \n",
    " - Student id\n",
    " - Student country\n",
    " - Date of registration.\n",
    "\n",
    "#### Questions\n",
    "\n",
    " - Which is the most & least represented country?\n",
    "     - Could be compared against previous year's data to understand trend and focus resources\n",
    "     - Understand the relationship between representation here and having sought help in the hub?\n",
    " - How is the date of registration spread?\n",
    "     - Are there different groupings of date of registration for different countries? (Check against Ad campaigns and discounts to understand effectiveness)\n",
    " "
   ]
  },
  {
   "cell_type": "code",
   "execution_count": 2,
   "id": "a7d405b2-4ea8-42d3-bfae-b23bbe3d8696",
   "metadata": {},
   "outputs": [],
   "source": [
    "import pandas as pd\n",
    "import numpy as np\n",
    "%matplotlib inline\n",
    "import matplotlib.pyplot as plt\n",
    "import import_ipynb\n",
    "import collections"
   ]
  },
  {
   "cell_type": "code",
   "execution_count": 3,
   "id": "e27b733b-c0f6-4b0e-8d7b-e52c53f7670f",
   "metadata": {},
   "outputs": [
    {
     "data": {
      "text/html": [
       "<div>\n",
       "<style scoped>\n",
       "    .dataframe tbody tr th:only-of-type {\n",
       "        vertical-align: middle;\n",
       "    }\n",
       "\n",
       "    .dataframe tbody tr th {\n",
       "        vertical-align: top;\n",
       "    }\n",
       "\n",
       "    .dataframe thead th {\n",
       "        text-align: right;\n",
       "    }\n",
       "</style>\n",
       "<table border=\"1\" class=\"dataframe\">\n",
       "  <thead>\n",
       "    <tr style=\"text-align: right;\">\n",
       "      <th></th>\n",
       "      <th>student_id</th>\n",
       "      <th>student_country</th>\n",
       "      <th>date_registered</th>\n",
       "    </tr>\n",
       "  </thead>\n",
       "  <tbody>\n",
       "    <tr>\n",
       "      <th>0</th>\n",
       "      <td>258798</td>\n",
       "      <td>IN</td>\n",
       "      <td>2022-01-01</td>\n",
       "    </tr>\n",
       "    <tr>\n",
       "      <th>1</th>\n",
       "      <td>258799</td>\n",
       "      <td>CO</td>\n",
       "      <td>2022-01-01</td>\n",
       "    </tr>\n",
       "    <tr>\n",
       "      <th>2</th>\n",
       "      <td>258800</td>\n",
       "      <td>CA</td>\n",
       "      <td>2022-01-01</td>\n",
       "    </tr>\n",
       "    <tr>\n",
       "      <th>3</th>\n",
       "      <td>258801</td>\n",
       "      <td>IN</td>\n",
       "      <td>2022-01-01</td>\n",
       "    </tr>\n",
       "    <tr>\n",
       "      <th>4</th>\n",
       "      <td>258802</td>\n",
       "      <td>US</td>\n",
       "      <td>2022-01-01</td>\n",
       "    </tr>\n",
       "  </tbody>\n",
       "</table>\n",
       "</div>"
      ],
      "text/plain": [
       "   student_id student_country date_registered\n",
       "0      258798              IN      2022-01-01\n",
       "1      258799              CO      2022-01-01\n",
       "2      258800              CA      2022-01-01\n",
       "3      258801              IN      2022-01-01\n",
       "4      258802              US      2022-01-01"
      ]
     },
     "execution_count": 3,
     "metadata": {},
     "output_type": "execute_result"
    }
   ],
   "source": [
    "student_info = pd.read_csv('dataSets/365_database/365_student_info.csv')\n",
    "\n",
    "student_info.head()\n",
    "\n",
    "# student_info.info()\n",
    "    \n",
    "# student_info.shape\n"
   ]
  },
  {
   "cell_type": "markdown",
   "id": "c58a8647-66ff-47d7-b73a-90691cea26ca",
   "metadata": {},
   "source": [
    "Only the country column has missing values."
   ]
  },
  {
   "cell_type": "code",
   "execution_count": 4,
   "id": "17096d18-6b27-45be-9ae5-7424fa0b8b7f",
   "metadata": {},
   "outputs": [
    {
     "data": {
      "text/plain": [
       "0        258798\n",
       "1        258799\n",
       "2        258800\n",
       "3        258801\n",
       "4        258802\n",
       "          ...  \n",
       "35225    295511\n",
       "35226    295512\n",
       "35227    295513\n",
       "35228    295514\n",
       "35229    295515\n",
       "Name: student_id, Length: 35217, dtype: int64"
      ]
     },
     "execution_count": 4,
     "metadata": {},
     "output_type": "execute_result"
    }
   ],
   "source": [
    "student_info_cleaned = student_info.dropna()\n",
    "student_info_cleaned['student_id']"
   ]
  },
  {
   "cell_type": "markdown",
   "id": "3df0c5e8-0b9d-4c36-b0a6-1fa60be1eb79",
   "metadata": {},
   "source": [
    "Cleaned the original dataframe by removing rows with missing values for country."
   ]
  },
  {
   "cell_type": "code",
   "execution_count": 5,
   "id": "cf60b760-79fd-449a-b776-81886d6a2c3d",
   "metadata": {},
   "outputs": [
    {
     "data": {
      "text/plain": [
       "IN    6933\n",
       "US    4768\n",
       "EG    3003\n",
       "GB    1748\n",
       "NG    1718\n",
       "      ... \n",
       "SR       1\n",
       "RE       1\n",
       "BI       1\n",
       "GY       1\n",
       "BM       1\n",
       "Name: student_country, Length: 180, dtype: int64"
      ]
     },
     "execution_count": 5,
     "metadata": {},
     "output_type": "execute_result"
    }
   ],
   "source": [
    "country_frequency = (student_info_cleaned['student_country'].value_counts())\n",
    "country_frequency"
   ]
  },
  {
   "cell_type": "markdown",
   "id": "d981609a-609e-4c06-86db-3e1ee781f54a",
   "metadata": {},
   "source": [
    "The value_count() function returns a series of unique values in a  column and the frequency of their occurrence.\n",
    "\n",
    "By applying it on the country column \n",
    "    <mark> student_info_cleaned['student_country'].value_counts() </mark>\n",
    "we are able to return a series containing a list of countries and how often they appear in the dataframe.\n",
    "\n",
    "This series is contained in a variable which is then be used to create a dataframe."
   ]
  },
  {
   "cell_type": "code",
   "execution_count": 6,
   "id": "8ac6b711-b17a-4c41-b65a-6da39b3a952d",
   "metadata": {},
   "outputs": [
    {
     "data": {
      "text/html": [
       "<div>\n",
       "<style scoped>\n",
       "    .dataframe tbody tr th:only-of-type {\n",
       "        vertical-align: middle;\n",
       "    }\n",
       "\n",
       "    .dataframe tbody tr th {\n",
       "        vertical-align: top;\n",
       "    }\n",
       "\n",
       "    .dataframe thead th {\n",
       "        text-align: right;\n",
       "    }\n",
       "</style>\n",
       "<table border=\"1\" class=\"dataframe\">\n",
       "  <thead>\n",
       "    <tr style=\"text-align: right;\">\n",
       "      <th></th>\n",
       "      <th>Country</th>\n",
       "      <th>No,of students</th>\n",
       "    </tr>\n",
       "  </thead>\n",
       "  <tbody>\n",
       "    <tr>\n",
       "      <th>0</th>\n",
       "      <td>IN</td>\n",
       "      <td>6933</td>\n",
       "    </tr>\n",
       "    <tr>\n",
       "      <th>1</th>\n",
       "      <td>US</td>\n",
       "      <td>4768</td>\n",
       "    </tr>\n",
       "    <tr>\n",
       "      <th>2</th>\n",
       "      <td>EG</td>\n",
       "      <td>3003</td>\n",
       "    </tr>\n",
       "    <tr>\n",
       "      <th>3</th>\n",
       "      <td>GB</td>\n",
       "      <td>1748</td>\n",
       "    </tr>\n",
       "    <tr>\n",
       "      <th>4</th>\n",
       "      <td>NG</td>\n",
       "      <td>1718</td>\n",
       "    </tr>\n",
       "    <tr>\n",
       "      <th>...</th>\n",
       "      <td>...</td>\n",
       "      <td>...</td>\n",
       "    </tr>\n",
       "    <tr>\n",
       "      <th>175</th>\n",
       "      <td>SR</td>\n",
       "      <td>1</td>\n",
       "    </tr>\n",
       "    <tr>\n",
       "      <th>176</th>\n",
       "      <td>RE</td>\n",
       "      <td>1</td>\n",
       "    </tr>\n",
       "    <tr>\n",
       "      <th>177</th>\n",
       "      <td>BI</td>\n",
       "      <td>1</td>\n",
       "    </tr>\n",
       "    <tr>\n",
       "      <th>178</th>\n",
       "      <td>GY</td>\n",
       "      <td>1</td>\n",
       "    </tr>\n",
       "    <tr>\n",
       "      <th>179</th>\n",
       "      <td>BM</td>\n",
       "      <td>1</td>\n",
       "    </tr>\n",
       "  </tbody>\n",
       "</table>\n",
       "<p>180 rows × 2 columns</p>\n",
       "</div>"
      ],
      "text/plain": [
       "    Country  No,of students\n",
       "0        IN            6933\n",
       "1        US            4768\n",
       "2        EG            3003\n",
       "3        GB            1748\n",
       "4        NG            1718\n",
       "..      ...             ...\n",
       "175      SR               1\n",
       "176      RE               1\n",
       "177      BI               1\n",
       "178      GY               1\n",
       "179      BM               1\n",
       "\n",
       "[180 rows x 2 columns]"
      ]
     },
     "execution_count": 6,
     "metadata": {},
     "output_type": "execute_result"
    }
   ],
   "source": [
    "student_by_countries = pd.DataFrame(country_frequency).reset_index().rename(columns={'index':'Country','student_country':'No,of students'})\n",
    "\n",
    "student_by_countries\n"
   ]
  },
  {
   "cell_type": "markdown",
   "id": "490e5acf-4d6c-4cbe-b220-96b48474fdbe",
   "metadata": {},
   "source": [
    "The above cell:\n",
    " - Creates a dataframe using the series from the preceding cell.\n",
    " - Resets the index: It adds the previous index (country name) to the dataframe as a column. and replaces it with a conventional index.\n",
    " - Renames the column for quicker understanding.\n",
    "\n",
    "The dataframe itself contains in descending order countries most represented to least represented. For us, this shows where most of our students population is from, and where the least is from as well.\n",
    "\n",
    "Looking at the top five rows I got an idea.\n",
    "\n",
    "It would be worth looking at the distribution of student representation by country.\n",
    "\n",
    "I will be adding another column to the dataframe to represent in percentage the student population from each country.\n",
    "\n",
    "For this, I will write a script to calculate percentage from one country's representation in the sample.\n",
    "\n",
    "And create a function out of the script with conditional logic, probably a while-loop.\n",
    "\n",
    "The function will return a list to create a dataframe which will be concatenated with the student_info dataframe.\n",
    "\n",
    "This will make obvious the break-down of individual country's representation in the population."
   ]
  },
  {
   "cell_type": "code",
   "execution_count": 7,
   "id": "be5218a4-bf3d-4ce2-b202-8258c13d5d6f",
   "metadata": {},
   "outputs": [
    {
     "data": {
      "text/plain": [
       "[19.687,\n",
       " 13.539,\n",
       " 8.527,\n",
       " 4.964,\n",
       " 4.878,\n",
       " 3.351,\n",
       " 2.788,\n",
       " 2.039,\n",
       " 1.672,\n",
       " 1.604,\n",
       " 1.44,\n",
       " 1.377,\n",
       " 1.357,\n",
       " 1.266,\n",
       " 1.258,\n",
       " 1.227,\n",
       " 1.195,\n",
       " 1.159,\n",
       " 1.107,\n",
       " 1.028,\n",
       " 0.98,\n",
       " 0.951,\n",
       " 0.948,\n",
       " 0.883,\n",
       " 0.877,\n",
       " 0.855,\n",
       " 0.761,\n",
       " 0.73,\n",
       " 0.71,\n",
       " 0.653,\n",
       " 0.645,\n",
       " 0.576,\n",
       " 0.545,\n",
       " 0.545,\n",
       " 0.534,\n",
       " 0.531,\n",
       " 0.528,\n",
       " 0.466,\n",
       " 0.446,\n",
       " 0.423,\n",
       " 0.358,\n",
       " 0.349,\n",
       " 0.341,\n",
       " 0.335,\n",
       " 0.327,\n",
       " 0.312,\n",
       " 0.312,\n",
       " 0.31,\n",
       " 0.27,\n",
       " 0.264,\n",
       " 0.264,\n",
       " 0.236,\n",
       " 0.236,\n",
       " 0.233,\n",
       " 0.233,\n",
       " 0.23,\n",
       " 0.224,\n",
       " 0.224,\n",
       " 0.199,\n",
       " 0.19,\n",
       " 0.187,\n",
       " 0.179,\n",
       " 0.176,\n",
       " 0.17,\n",
       " 0.168,\n",
       " 0.165,\n",
       " 0.156,\n",
       " 0.148,\n",
       " 0.133,\n",
       " 0.131,\n",
       " 0.125,\n",
       " 0.116,\n",
       " 0.114,\n",
       " 0.108,\n",
       " 0.108,\n",
       " 0.105,\n",
       " 0.105,\n",
       " 0.105,\n",
       " 0.099,\n",
       " 0.094,\n",
       " 0.088,\n",
       " 0.088,\n",
       " 0.085,\n",
       " 0.085,\n",
       " 0.085,\n",
       " 0.082,\n",
       " 0.077,\n",
       " 0.074,\n",
       " 0.074,\n",
       " 0.074,\n",
       " 0.062,\n",
       " 0.062,\n",
       " 0.062,\n",
       " 0.062,\n",
       " 0.062,\n",
       " 0.062,\n",
       " 0.06,\n",
       " 0.06,\n",
       " 0.057,\n",
       " 0.057,\n",
       " 0.054,\n",
       " 0.051,\n",
       " 0.048,\n",
       " 0.045,\n",
       " 0.045,\n",
       " 0.043,\n",
       " 0.043,\n",
       " 0.043,\n",
       " 0.04,\n",
       " 0.037,\n",
       " 0.037,\n",
       " 0.037,\n",
       " 0.034,\n",
       " 0.034,\n",
       " 0.031,\n",
       " 0.028,\n",
       " 0.028,\n",
       " 0.026,\n",
       " 0.026,\n",
       " 0.026,\n",
       " 0.026,\n",
       " 0.026,\n",
       " 0.026,\n",
       " 0.023,\n",
       " 0.023,\n",
       " 0.023,\n",
       " 0.023,\n",
       " 0.02,\n",
       " 0.02,\n",
       " 0.02,\n",
       " 0.02,\n",
       " 0.02,\n",
       " 0.017,\n",
       " 0.017,\n",
       " 0.017,\n",
       " 0.017,\n",
       " 0.017,\n",
       " 0.014,\n",
       " 0.014,\n",
       " 0.014,\n",
       " 0.014,\n",
       " 0.014,\n",
       " 0.014,\n",
       " 0.011,\n",
       " 0.009,\n",
       " 0.009,\n",
       " 0.009,\n",
       " 0.009,\n",
       " 0.009,\n",
       " 0.009,\n",
       " 0.009,\n",
       " 0.009,\n",
       " 0.009,\n",
       " 0.009,\n",
       " 0.006,\n",
       " 0.006,\n",
       " 0.006,\n",
       " 0.006,\n",
       " 0.006,\n",
       " 0.006,\n",
       " 0.006,\n",
       " 0.006,\n",
       " 0.006,\n",
       " 0.006,\n",
       " 0.003,\n",
       " 0.003,\n",
       " 0.003,\n",
       " 0.003,\n",
       " 0.003,\n",
       " 0.003,\n",
       " 0.003,\n",
       " 0.003,\n",
       " 0.003,\n",
       " 0.003,\n",
       " 0.003,\n",
       " 0.003,\n",
       " 0.003,\n",
       " 0.003,\n",
       " 0.003,\n",
       " 0.003]"
      ]
     },
     "execution_count": 7,
     "metadata": {},
     "output_type": "execute_result"
    }
   ],
   "source": [
    "def percentCalc():\n",
    "    n = 0\n",
    "    global percent\n",
    "    percent = []\n",
    "\n",
    "    total_students = student_by_countries['No,of students'].sum()\n",
    "\n",
    "    total_countries = len(student_by_countries)\n",
    "\n",
    "    while n < total_countries:\n",
    "        \n",
    "        weight = round((((student_by_countries['No,of students'].loc[n])/total_students)*100),3)\n",
    "\n",
    "        percent.append(weight)\n",
    "    \n",
    "        n = n + 1\n",
    "    return percent\n",
    "\n",
    "percentCalc()"
   ]
  },
  {
   "cell_type": "markdown",
   "id": "a6f4b46b-f017-4b3d-9e95-36e16af2bcc8",
   "metadata": {},
   "source": [
    "The cell above describes a function which calculates returns a list containing 180 floating point number, each one of them corresponds to a country in order as presented in the student_by_countries Dataframe."
   ]
  },
  {
   "cell_type": "code",
   "execution_count": 8,
   "id": "5ef8cc3b-6db0-4b4b-8867-373f176d82d9",
   "metadata": {},
   "outputs": [
    {
     "data": {
      "text/html": [
       "<div>\n",
       "<style scoped>\n",
       "    .dataframe tbody tr th:only-of-type {\n",
       "        vertical-align: middle;\n",
       "    }\n",
       "\n",
       "    .dataframe tbody tr th {\n",
       "        vertical-align: top;\n",
       "    }\n",
       "\n",
       "    .dataframe thead th {\n",
       "        text-align: right;\n",
       "    }\n",
       "</style>\n",
       "<table border=\"1\" class=\"dataframe\">\n",
       "  <thead>\n",
       "    <tr style=\"text-align: right;\">\n",
       "      <th></th>\n",
       "      <th>Country</th>\n",
       "      <th>No,of students</th>\n",
       "      <th>Percent</th>\n",
       "    </tr>\n",
       "  </thead>\n",
       "  <tbody>\n",
       "    <tr>\n",
       "      <th>0</th>\n",
       "      <td>IN</td>\n",
       "      <td>6933</td>\n",
       "      <td>19.687</td>\n",
       "    </tr>\n",
       "    <tr>\n",
       "      <th>1</th>\n",
       "      <td>US</td>\n",
       "      <td>4768</td>\n",
       "      <td>13.539</td>\n",
       "    </tr>\n",
       "    <tr>\n",
       "      <th>2</th>\n",
       "      <td>EG</td>\n",
       "      <td>3003</td>\n",
       "      <td>8.527</td>\n",
       "    </tr>\n",
       "    <tr>\n",
       "      <th>3</th>\n",
       "      <td>GB</td>\n",
       "      <td>1748</td>\n",
       "      <td>4.964</td>\n",
       "    </tr>\n",
       "    <tr>\n",
       "      <th>4</th>\n",
       "      <td>NG</td>\n",
       "      <td>1718</td>\n",
       "      <td>4.878</td>\n",
       "    </tr>\n",
       "    <tr>\n",
       "      <th>...</th>\n",
       "      <td>...</td>\n",
       "      <td>...</td>\n",
       "      <td>...</td>\n",
       "    </tr>\n",
       "    <tr>\n",
       "      <th>175</th>\n",
       "      <td>SR</td>\n",
       "      <td>1</td>\n",
       "      <td>0.003</td>\n",
       "    </tr>\n",
       "    <tr>\n",
       "      <th>176</th>\n",
       "      <td>RE</td>\n",
       "      <td>1</td>\n",
       "      <td>0.003</td>\n",
       "    </tr>\n",
       "    <tr>\n",
       "      <th>177</th>\n",
       "      <td>BI</td>\n",
       "      <td>1</td>\n",
       "      <td>0.003</td>\n",
       "    </tr>\n",
       "    <tr>\n",
       "      <th>178</th>\n",
       "      <td>GY</td>\n",
       "      <td>1</td>\n",
       "      <td>0.003</td>\n",
       "    </tr>\n",
       "    <tr>\n",
       "      <th>179</th>\n",
       "      <td>BM</td>\n",
       "      <td>1</td>\n",
       "      <td>0.003</td>\n",
       "    </tr>\n",
       "  </tbody>\n",
       "</table>\n",
       "<p>180 rows × 3 columns</p>\n",
       "</div>"
      ],
      "text/plain": [
       "    Country  No,of students  Percent\n",
       "0        IN            6933   19.687\n",
       "1        US            4768   13.539\n",
       "2        EG            3003    8.527\n",
       "3        GB            1748    4.964\n",
       "4        NG            1718    4.878\n",
       "..      ...             ...      ...\n",
       "175      SR               1    0.003\n",
       "176      RE               1    0.003\n",
       "177      BI               1    0.003\n",
       "178      GY               1    0.003\n",
       "179      BM               1    0.003\n",
       "\n",
       "[180 rows x 3 columns]"
      ]
     },
     "execution_count": 8,
     "metadata": {},
     "output_type": "execute_result"
    }
   ],
   "source": [
    "def dfMaker(data:list):\n",
    "    df = pd.DataFrame(data, columns = ['Percent'])\n",
    "\n",
    "    frames = [student_by_countries, df]\n",
    "    \n",
    "    global percent_Breakdown\n",
    "    percent_Breakdown = pd.concat(frames,axis = 1)\n",
    "\n",
    "    return percent_Breakdown\n",
    "\n",
    "dfMaker(percentCalc())"
   ]
  },
  {
   "cell_type": "code",
   "execution_count": 9,
   "id": "045002f6-3f72-47cf-8d8b-ad053119a34a",
   "metadata": {},
   "outputs": [
    {
     "data": {
      "text/plain": [
       "35217"
      ]
     },
     "execution_count": 9,
     "metadata": {},
     "output_type": "execute_result"
    }
   ],
   "source": [
    "percent_Breakdown['No,of students'].sum()"
   ]
  },
  {
   "cell_type": "code",
   "execution_count": 10,
   "id": "356520c4-05ef-4173-83fb-444b03a122cd",
   "metadata": {},
   "outputs": [
    {
     "data": {
      "text/plain": [
       "100.01100000000001"
      ]
     },
     "execution_count": 10,
     "metadata": {},
     "output_type": "execute_result"
    }
   ],
   "source": [
    "percent_Breakdown['Percent'].sum()"
   ]
  },
  {
   "cell_type": "code",
   "execution_count": 11,
   "id": "bec1ea5b-b9e9-4c49-800a-cac3ee039fc3",
   "metadata": {},
   "outputs": [],
   "source": [
    "registration_date = (student_info_cleaned['date_registered'].value_counts().to_dict())\n",
    "# registration_date"
   ]
  },
  {
   "cell_type": "code",
   "execution_count": 12,
   "id": "9d52a057-035c-4338-8a04-adeed44366b1",
   "metadata": {},
   "outputs": [],
   "source": [
    "registration_date_ordered = collections.OrderedDict(sorted(registration_date.items()))\n",
    "# registration_date_ordered"
   ]
  },
  {
   "cell_type": "code",
   "execution_count": 13,
   "id": "f36bc8ca-9f67-41f1-ab0a-3aea97eeef91",
   "metadata": {},
   "outputs": [
    {
     "data": {
      "text/plain": [
       "<function matplotlib.pyplot.show(close=None, block=None)>"
      ]
     },
     "execution_count": 13,
     "metadata": {},
     "output_type": "execute_result"
    },
    {
     "data": {
      "image/png": "[encoded data removed]",
      "text/plain": [
       "<Figure size 640x480 with 1 Axes>"
      ]
     },
     "metadata": {},
     "output_type": "display_data"
    }
   ],
   "source": [
    "plt.bar(list(registration_date_ordered.keys()),registration_date_ordered.values(),color='g')\n",
    "plt.show"
   ]
  },
  {
   "cell_type": "code",
   "execution_count": 16,
   "id": "a01ca91d-ee3c-4b89-aa9c-9e4a26817728",
   "metadata": {},
   "outputs": [
    {
     "data": {
      "text/plain": [
       "[261725,\n",
       " 262665,\n",
       " 272144,\n",
       " 278827,\n",
       " 282654,\n",
       " 282914,\n",
       " 283704,\n",
       " 283791,\n",
       " 284550,\n",
       " 284790,\n",
       " 286959,\n",
       " 290648,\n",
       " 293967]"
      ]
     },
     "execution_count": 16,
     "metadata": {},
     "output_type": "execute_result"
    }
   ],
   "source": [
    "df = student_info[student_info.isnull().any(axis=1)]\n",
    "missing_country = df['student_id'].tolist()\n",
    "missing_country"
   ]
  },
  {
   "cell_type": "code",
   "execution_count": 17,
   "id": "565b273f-e422-4723-befd-d8c7ae74ca59",
   "metadata": {},
   "outputs": [
    {
     "name": "stdout",
     "output_type": "stream",
     "text": [
      "35217\n",
      "35217\n"
     ]
    }
   ],
   "source": [
    "print(len(student_info_cleaned))\n",
    "country_Student = dict(zip(student_info_cleaned.student_id, student_info_cleaned.student_country))\n",
    "print(len(country_Student))"
   ]
  },
  {
   "cell_type": "code",
   "execution_count": 19,
   "id": "32b810b6-8616-48ee-9f6d-eefc8bdf63c9",
   "metadata": {},
   "outputs": [
    {
     "data": {
      "text/plain": [
       "IN    6933\n",
       "US    4768\n",
       "EG    3003\n",
       "GB    1748\n",
       "NG    1718\n",
       "      ... \n",
       "SR       1\n",
       "RE       1\n",
       "BI       1\n",
       "GY       1\n",
       "BM       1\n",
       "Name: student_country, Length: 180, dtype: int64"
      ]
     },
     "execution_count": 19,
     "metadata": {},
     "output_type": "execute_result"
    }
   ],
   "source": [
    "student_info_cleaned['student_country'].value_counts()"
   ]
  }
 ],
 "metadata": {
  "kernelspec": {
   "display_name": "Python 3 (ipykernel)",
   "language": "python",
   "name": "python3"
  },
  "language_info": {
   "codemirror_mode": {
    "name": "ipython",
    "version": 3
   },
   "file_extension": ".py",
   "mimetype": "text/x-python",
   "name": "python",
   "nbconvert_exporter": "python",
   "pygments_lexer": "ipython3",
   "version": "3.10.6"
  }
 },
 "nbformat": 4,
 "nbformat_minor": 5
}
