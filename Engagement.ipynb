{
 "cells": [
  {
   "cell_type": "markdown",
   "id": "6ec8c5e9-f66e-4022-b4c8-8f85a1a10fd6",
   "metadata": {},
   "source": [
    "## Engagement\n",
    "\n",
    "The data sourced from 365 has a seperate file title 'student_engagement'.\n",
    "However, exams and quizzes are not labelled with IDs meaning that repetition of exams and quizzes cannot be studied and understood.\n",
    "\n",
    "This notebook will prepare and combine data regarding student's interaction with exams, quizzes, and student hub questions. And thereby derive a nuanced understanding of student's engagement with the platform.\n",
    "\n",
    "#### Description\n",
    "\n",
    "My prospective oversight for this notebook involves:\n",
    "\n",
    " - Importing notebooks (exams, quizzes, student hub questions)\n",
    " - Data cleaning & prepping\n",
    " - Creating either a KPI or list of sorts to represent student IDs based on engagement?"
   ]
  }
 ],
 "metadata": {
  "kernelspec": {
   "display_name": "Python 3 (ipykernel)",
   "language": "python",
   "name": "python3"
  },
  "language_info": {
   "codemirror_mode": {
    "name": "ipython",
    "version": 3
   },
   "file_extension": ".py",
   "mimetype": "text/x-python",
   "name": "python",
   "nbconvert_exporter": "python",
   "pygments_lexer": "ipython3",
   "version": "3.10.6"
  }
 },
 "nbformat": 4,
 "nbformat_minor": 5
}
