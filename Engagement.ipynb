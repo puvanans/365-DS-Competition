{
 "cells": [
  {
   "cell_type": "markdown",
   "id": "fc165728-0d8a-4915-83c5-26ab6f611309",
   "metadata": {},
   "source": [
    "\n",
    "## Engagement\n",
    "\n",
    "The data sourced from 365 has a seperate file title 'student_engagement'.\n",
    "However, exams and quizzes are not labelled with IDs meaning that repetition of exams and quizzes cannot be studied and understood.\n",
    "\n",
    "This notebook will prepare and combine data regarding student's interaction with exams, quizzes, and student hub questions. And thereby derive a nuanced understanding of student's engagement with the platform.\n",
    "\n",
    "#### Description\n",
    "\n",
    "My prospective oversight for this notebook involves:\n",
    "\n",
    " - Importing notebooks (exams, quizzes, student hub questions)\n",
    " - Data cleaning & prepping\n",
    " - Creating either a KPI or list of sorts to represent student IDs based on engagement?\n",
    " \n",
    "#### Update\n",
    "\n",
    "I have divided the student engagement sample into two categories (above & below avg engagement).\n",
    "\n",
    "From here much of the provided data can be divided based on engagement levels such as:\n",
    " - exams frequency and completion time.\n",
    " - quizzes freequency and completion time.\n",
    " - student hub questions.\n",
    " - student membership type? which type of membership is popular among the most and least engaged students.\n",
    " - Nationalities represented by engagement level."
   ]
  },
  {
   "cell_type": "code",
   "execution_count": 2,
   "id": "0cd7a2ba-6719-4d72-96ad-ac5f6a32bd01",
   "metadata": {},
   "outputs": [],
   "source": [
    "import pandas as pd\n",
    "import numpy as np\n",
    "%matplotlib inline\n",
    "import matplotlib.pyplot as plt\n",
    "import import_ipynb\n",
    "#This allows importing notebooks\n",
    "import collections"
   ]
  },
  {
   "cell_type": "code",
   "execution_count": 8,
   "id": "d0c536c0-97d6-423c-8b7d-a45e0da0ec2b",
   "metadata": {},
   "outputs": [],
   "source": [
    "# Dependencies \n",
    "from Student_info import student_info_cleaned\n",
    "# from student_hub_questions import student_hub_country\n",
    "from student_exams import student_exam_by_country\n",
    "from student_quizzes import student_quiz_by_country\n",
    "from student_purchases import student_purchases_by_country\n",
    "\n",
    "# Dependencies from student_engagement\n",
    "from student_engagement import above_avg_countries, below_avg_countries, above_avg_ID, below_avg_ID, student_engagement_by_country\n",
    "# They are all dicts, Keys are labels and values are the frequency of representation\n",
    "\n"
   ]
  },
  {
   "cell_type": "code",
   "execution_count": 16,
   "id": "652d07a8-1cfb-4f1d-94b3-168a2eede7b3",
   "metadata": {},
   "outputs": [],
   "source": [
    "engagement_dates = student_engagement_by_country['date_engaged'].value_counts().to_dict()\n",
    "\n",
    "engagement_dates_ordered = collections.OrderedDict(sorted(engagement_dates.items()))\n",
    "\n",
    "purchase_dates = student_purchases_by_country['date_purchased'].value_counts().to_dict()\n",
    "\n",
    "purchase_dates_ordered = collections.OrderedDict(sorted(purchase_dates.items()))\n",
    "\n",
    "registration_dates = (student_info_cleaned['date_registered'].value_counts().to_dict())\n",
    "\n",
    "registration_dates_ordered = collections.OrderedDict(sorted(registration_dates.items()))\n",
    "\n",
    "# registration_dates_ordered \n",
    "# purchase_dates_ordered\n",
    "# engagement_dates_ordered"
   ]
  },
  {
   "cell_type": "markdown",
   "id": "0500a81e-c35e-4e7c-86d0-28e668ef1b11",
   "metadata": {},
   "source": [
    "In the above cell achieves several functions.\n",
    "\n",
    "        value_counts() - Allows us to find the number of times a date is repeated in the dataframe.To us this means we are able to find the number of   engagement or registration or purchase to occur everyday across the year.\n",
    "        \n",
    "        to_dict() -  This function returns a dictionary. Vale_counts() will return a series of two columns, dates and frequency of occurrence .Using to_dict() we can convert the series to a dictionary with the dates as the key and the frequency of occurrence as the value.\n",
    "        \n",
    "        Collections.OrderedDict() - The resulting dictionary from to_dict() will be ordered based on the values and not the keys. We need it to be ordered based on the dates (keys) Jan 1st and so on. We use collections and OrderedDict() for this.\n",
    "                \n",
    "From the above steps we pbtain dictionaries for information on purchases,registration, and engagement.\n",
    "\n",
    "Keys are the dates and the values are the frequency of occurences.\n",
    "\n",
    "From these dictionaries we can track the level of engagement,registration and purchases across time.     \n",
    "                "
   ]
  },
  {
   "cell_type": "markdown",
   "id": "a57fb936-33d5-4e74-bc41-39a934626140",
   "metadata": {},
   "source": [
    "The below cell creates series for the dates and frequency of occurrence from the preceding dataframes.\n",
    "These will then be exported to excel to create graphs."
   ]
  },
  {
   "cell_type": "code",
   "execution_count": 20,
   "id": "670bbd27-3207-4303-bb3f-f50db8258a74",
   "metadata": {},
   "outputs": [],
   "source": [
    "engagement_dates_df = pd.DataFrame.from_dict(engagement_dates_ordered, orient ='index')\n",
    "purchase_dates_df = pd.DataFrame.from_dict(purchase_dates_ordered, orient ='index')\n",
    "registration_dates_df = pd.DataFrame.from_dict(registration_dates_ordered, orient ='index')\n"
   ]
  },
  {
   "cell_type": "code",
   "execution_count": 21,
   "id": "ec9cffad-aba8-488d-a067-de6941f2afd0",
   "metadata": {},
   "outputs": [],
   "source": [
    "engagement_dates_df.to_excel(\"frequency of engagement.xlsx\")\n",
    "purchase_dates_df.to_excel(\"frequency of purchase.xlsx\")\n",
    "registration_dates_df.to_excel(\"frequency of registration.xlsx\")\n"
   ]
  },
  {
   "cell_type": "markdown",
   "id": "75d402d8-433f-41f3-bcea-3fb65d3c8a2a",
   "metadata": {},
   "source": [
    "These Excel files will be loaded on to Tableau for visualization."
   ]
  },
  {
   "cell_type": "code",
   "execution_count": 24,
   "id": "100c9689-54c2-41bd-91f6-d6f5c74a215b",
   "metadata": {},
   "outputs": [
    {
     "data": {
      "text/plain": [
       "<function matplotlib.pyplot.show(close=None, block=None)>"
      ]
     },
     "execution_count": 24,
     "metadata": {},
     "output_type": "execute_result"
    },
    {
     "data": {
      "image/png": "[encoded data removed]",
      "text/plain": [
       "<Figure size 640x480 with 1 Axes>"
      ]
     },
     "metadata": {},
     "output_type": "display_data"
    }
   ],
   "source": [
    "plt.bar(list(engagement_dates_ordered.keys()),engagement_dates_ordered.values(),color='g')\n",
    "plt.show"
   ]
  },
  {
   "cell_type": "code",
   "execution_count": 28,
   "id": "f9079bda-5b7c-4fd6-822e-9fc6c3e6356e",
   "metadata": {},
   "outputs": [
    {
     "data": {
      "text/plain": [
       "<function matplotlib.pyplot.show(close=None, block=None)>"
      ]
     },
     "execution_count": 28,
     "metadata": {},
     "output_type": "execute_result"
    },
    {
     "data": {
      "image/png": "[encoded data removed]",
      "text/plain": [
       "<Figure size 640x480 with 1 Axes>"
      ]
     },
     "metadata": {},
     "output_type": "display_data"
    }
   ],
   "source": [
    "plt.bar(list(registration_dates_ordered.keys()),registration_dates_ordered.values(),color='g')\n",
    "plt.show"
   ]
  },
  {
   "cell_type": "code",
   "execution_count": 22,
   "id": "3fad6b88-3638-4644-86e0-3c02c4f96ebf",
   "metadata": {},
   "outputs": [
    {
     "data": {
      "text/plain": [
       "<function matplotlib.pyplot.show(close=None, block=None)>"
      ]
     },
     "execution_count": 22,
     "metadata": {},
     "output_type": "execute_result"
    },
    {
     "data": {
      "image/png": "[encoded data removed]",
      "text/plain": [
       "<Figure size 640x480 with 1 Axes>"
      ]
     },
     "metadata": {},
     "output_type": "display_data"
    }
   ],
   "source": [
    "plt.bar(list(purchase_dates_ordered.keys()),purchase_dates_ordered.values(),color='g')\n",
    "plt.show"
   ]
  }
 ],
 "metadata": {
  "kernelspec": {
   "display_name": "Python 3 (ipykernel)",
   "language": "python",
   "name": "python3"
  },
  "language_info": {
   "codemirror_mode": {
    "name": "ipython",
    "version": 3
   },
   "file_extension": ".py",
   "mimetype": "text/x-python",
   "name": "python",
   "nbconvert_exporter": "python",
   "pygments_lexer": "ipython3",
   "version": "3.10.6"
  }
 },
 "nbformat": 4,
 "nbformat_minor": 5
}
