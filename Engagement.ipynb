{
 "cells": [
  {
   "cell_type": "markdown",
   "id": "6ec8c5e9-f66e-4022-b4c8-8f85a1a10fd6",
   "metadata": {},
   "source": [
    "import pandas as pd\n",
    "import numpy as np\n",
    "%matplotlib inline\n",
    "import matplotlib.pyplot as plt\n",
    "import import_ipynb\n",
    "from Student_info import country_Student\n",
    "from Student_info import student_info## Engagement\n",
    "\n",
    "The data sourced from 365 has a seperate file title 'student_engagement'.\n",
    "However, exams and quizzes are not labelled with IDs meaning that repetition of exams and quizzes cannot be studied and understood.\n",
    "\n",
    "This notebook will prepare and combine data regarding student's interaction with exams, quizzes, and student hub questions. And thereby derive a nuanced understanding of student's engagement with the platform.\n",
    "\n",
    "#### Description\n",
    "\n",
    "My prospective oversight for this notebook involves:\n",
    "\n",
    " - Importing notebooks (exams, quizzes, student hub questions)\n",
    " - Data cleaning & prepping\n",
    " - Creating either a KPI or list of sorts to represent student IDs based on engagement?"
   ]
  },
  {
   "cell_type": "code",
   "execution_count": 1,
   "id": "0cd7a2ba-6719-4d72-96ad-ac5f6a32bd01",
   "metadata": {},
   "outputs": [],
   "source": [
    "import pandas as pd\n",
    "import numpy as np\n",
    "%matplotlib inline\n",
    "import matplotlib.pyplot as plt\n",
    "import import_ipynb"
   ]
  },
  {
   "cell_type": "code",
   "execution_count": 15,
   "id": "d0c536c0-97d6-423c-8b7d-a45e0da0ec2b",
   "metadata": {},
   "outputs": [],
   "source": [
    "# Dependencies \n",
    "from Student_info import country_Student\n",
    "from Student_info import student_info\n",
    "\n",
    "# Dependencies from student_engagement\n",
    "from student_engagement import above_avg_countries, below_avg_countries, above_avg_ID, below_avg_ID, student_engagement_by_country\n",
    "# They are all dicts, Keys are labels and values are the frequency of representation\n",
    "\n",
    "# Dependencies from "
   ]
  },
  {
   "cell_type": "code",
   "execution_count": 16,
   "id": "652d07a8-1cfb-4f1d-94b3-168a2eede7b3",
   "metadata": {},
   "outputs": [],
   "source": [
    "engagement_dates = student_engagement_by_country['date_engaged'].value_counts().to_dict()\n",
    "len(engagement_dates)"
   ]
  }
 ],
 "metadata": {
  "kernelspec": {
   "display_name": "Python 3 (ipykernel)",
   "language": "python",
   "name": "python3"
  },
  "language_info": {
   "codemirror_mode": {
    "name": "ipython",
    "version": 3
   },
   "file_extension": ".py",
   "mimetype": "text/x-python",
   "name": "python",
   "nbconvert_exporter": "python",
   "pygments_lexer": "ipython3",
   "version": "3.10.6"
  }
 },
 "nbformat": 4,
 "nbformat_minor": 5
}
