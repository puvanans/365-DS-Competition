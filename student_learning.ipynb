{
 "cells": [
  {
   "cell_type": "markdown",
   "id": "f4809b2b-2366-4964-b0fe-a8a737b375d3",
   "metadata": {},
   "source": [
    "## Student Learning\n",
    "\n",
    "This notebook will explore data on student learning. \n",
    "More specifically, it will explore data regarding:\n",
    "\n",
    "- which course was seen and for how long\n",
    "- which student saw which course\n",
    "- Date on which the courses were watched"
   ]
  },
  {
   "cell_type": "code",
   "execution_count": 1,
   "id": "d95d6ec0-5c8f-40ff-ac51-e1d043de6f2a",
   "metadata": {},
   "outputs": [],
   "source": [
    "\n",
    "import pandas as pd\n",
    "import numpy as np\n",
    "%matplotlib inline\n",
    "import matplotlib.pyplot as plt\n",
    "import import_ipynb\n",
    "from Student_info import country_Student"
   ]
  },
  {
   "cell_type": "code",
   "execution_count": 8,
   "id": "9a7c54ec-5769-495b-9b7d-0cbc2064e188",
   "metadata": {},
   "outputs": [
    {
     "data": {
      "text/html": [
       "<div>\n",
       "<style scoped>\n",
       "    .dataframe tbody tr th:only-of-type {\n",
       "        vertical-align: middle;\n",
       "    }\n",
       "\n",
       "    .dataframe tbody tr th {\n",
       "        vertical-align: top;\n",
       "    }\n",
       "\n",
       "    .dataframe thead th {\n",
       "        text-align: right;\n",
       "    }\n",
       "</style>\n",
       "<table border=\"1\" class=\"dataframe\">\n",
       "  <thead>\n",
       "    <tr style=\"text-align: right;\">\n",
       "      <th></th>\n",
       "      <th>student_id</th>\n",
       "      <th>course_id</th>\n",
       "      <th>minutes_watched</th>\n",
       "      <th>date_watched</th>\n",
       "    </tr>\n",
       "  </thead>\n",
       "  <tbody>\n",
       "    <tr>\n",
       "      <th>0</th>\n",
       "      <td>258798</td>\n",
       "      <td>23</td>\n",
       "      <td>0.3</td>\n",
       "      <td>2022-01-01</td>\n",
       "    </tr>\n",
       "    <tr>\n",
       "      <th>1</th>\n",
       "      <td>258800</td>\n",
       "      <td>2</td>\n",
       "      <td>12.9</td>\n",
       "      <td>2022-04-01</td>\n",
       "    </tr>\n",
       "    <tr>\n",
       "      <th>2</th>\n",
       "      <td>258800</td>\n",
       "      <td>7</td>\n",
       "      <td>46.8</td>\n",
       "      <td>2022-01-03</td>\n",
       "    </tr>\n",
       "    <tr>\n",
       "      <th>3</th>\n",
       "      <td>258800</td>\n",
       "      <td>7</td>\n",
       "      <td>4.3</td>\n",
       "      <td>2022-01-04</td>\n",
       "    </tr>\n",
       "    <tr>\n",
       "      <th>4</th>\n",
       "      <td>258800</td>\n",
       "      <td>7</td>\n",
       "      <td>31.7</td>\n",
       "      <td>2022-01-07</td>\n",
       "    </tr>\n",
       "    <tr>\n",
       "      <th>...</th>\n",
       "      <td>...</td>\n",
       "      <td>...</td>\n",
       "      <td>...</td>\n",
       "      <td>...</td>\n",
       "    </tr>\n",
       "    <tr>\n",
       "      <th>64530</th>\n",
       "      <td>295509</td>\n",
       "      <td>23</td>\n",
       "      <td>0.8</td>\n",
       "      <td>2022-10-20</td>\n",
       "    </tr>\n",
       "    <tr>\n",
       "      <th>64531</th>\n",
       "      <td>295510</td>\n",
       "      <td>53</td>\n",
       "      <td>0.1</td>\n",
       "      <td>2022-10-20</td>\n",
       "    </tr>\n",
       "    <tr>\n",
       "      <th>64532</th>\n",
       "      <td>295511</td>\n",
       "      <td>7</td>\n",
       "      <td>7.8</td>\n",
       "      <td>2022-10-20</td>\n",
       "    </tr>\n",
       "    <tr>\n",
       "      <th>64533</th>\n",
       "      <td>295512</td>\n",
       "      <td>7</td>\n",
       "      <td>10.4</td>\n",
       "      <td>2022-10-20</td>\n",
       "    </tr>\n",
       "    <tr>\n",
       "      <th>64534</th>\n",
       "      <td>295513</td>\n",
       "      <td>21</td>\n",
       "      <td>0.1</td>\n",
       "      <td>2022-10-20</td>\n",
       "    </tr>\n",
       "  </tbody>\n",
       "</table>\n",
       "<p>64535 rows × 4 columns</p>\n",
       "</div>"
      ],
      "text/plain": [
       "       student_id  course_id  minutes_watched date_watched\n",
       "0          258798         23              0.3   2022-01-01\n",
       "1          258800          2             12.9   2022-04-01\n",
       "2          258800          7             46.8   2022-01-03\n",
       "3          258800          7              4.3   2022-01-04\n",
       "4          258800          7             31.7   2022-01-07\n",
       "...           ...        ...              ...          ...\n",
       "64530      295509         23              0.8   2022-10-20\n",
       "64531      295510         53              0.1   2022-10-20\n",
       "64532      295511          7              7.8   2022-10-20\n",
       "64533      295512          7             10.4   2022-10-20\n",
       "64534      295513         21              0.1   2022-10-20\n",
       "\n",
       "[64535 rows x 4 columns]"
      ]
     },
     "execution_count": 8,
     "metadata": {},
     "output_type": "execute_result"
    }
   ],
   "source": [
    "student_learning = pd.read_csv('dataSets/365_database/365_student_learning.csv')\n",
    "student_learning"
   ]
  },
  {
   "cell_type": "markdown",
   "id": "8152e901-e0db-4234-99de-502331fdaffb",
   "metadata": {},
   "source": [
    "\n",
    " - The above dataframe <mark> student_learning </mark> contains several columns of interest. \n",
    "\n",
    " - To further analyze the data in relation to data from this and other notebooks, we will have to split the initial data frame into three different dataframes based on categories.  \n",
    "\n",
    " - My initial idea is to create through conditional logic a dict with course IDs as the keys and categorical DFs as the values.  \n",
    "\n",
    " - However, I want research if there are any functions in pandas documentation.  \n",
    "<br>"
   ]
  },
  {
   "cell_type": "code",
   "execution_count": 9,
   "id": "dd607242-5f91-42f3-801c-7cfbebdcd069",
   "metadata": {},
   "outputs": [
    {
     "data": {
      "text/html": [
       "<div>\n",
       "<style scoped>\n",
       "    .dataframe tbody tr th:only-of-type {\n",
       "        vertical-align: middle;\n",
       "    }\n",
       "\n",
       "    .dataframe tbody tr th {\n",
       "        vertical-align: top;\n",
       "    }\n",
       "\n",
       "    .dataframe thead th {\n",
       "        text-align: right;\n",
       "    }\n",
       "</style>\n",
       "<table border=\"1\" class=\"dataframe\">\n",
       "  <thead>\n",
       "    <tr style=\"text-align: right;\">\n",
       "      <th></th>\n",
       "      <th>course_id</th>\n",
       "    </tr>\n",
       "  </thead>\n",
       "  <tbody>\n",
       "    <tr>\n",
       "      <th>7</th>\n",
       "      <td>15353</td>\n",
       "    </tr>\n",
       "    <tr>\n",
       "      <th>21</th>\n",
       "      <td>7046</td>\n",
       "    </tr>\n",
       "    <tr>\n",
       "      <th>14</th>\n",
       "      <td>6702</td>\n",
       "    </tr>\n",
       "    <tr>\n",
       "      <th>23</th>\n",
       "      <td>6032</td>\n",
       "    </tr>\n",
       "    <tr>\n",
       "      <th>16</th>\n",
       "      <td>4628</td>\n",
       "    </tr>\n",
       "  </tbody>\n",
       "</table>\n",
       "</div>"
      ],
      "text/plain": [
       "    course_id\n",
       "7       15353\n",
       "21       7046\n",
       "14       6702\n",
       "23       6032\n",
       "16       4628"
      ]
     },
     "execution_count": 9,
     "metadata": {},
     "output_type": "execute_result"
    }
   ],
   "source": [
    "course_freq = pd.DataFrame(student_learning['course_id'].value_counts())\n",
    "course_freq.head()"
   ]
  },
  {
   "cell_type": "code",
   "execution_count": 24,
   "id": "44176d10-c4f6-4ce0-b098-72b384be17fc",
   "metadata": {},
   "outputs": [],
   "source": [
    "# country_Student"
   ]
  },
  {
   "cell_type": "code",
   "execution_count": 40,
   "id": "c6e61fd6-b4b6-41fd-b3bc-7850c41f3649",
   "metadata": {},
   "outputs": [
    {
     "ename": "KeyError",
     "evalue": "272144",
     "output_type": "error",
     "traceback": [
      "\u001b[1;31m---------------------------------------------------------------------------\u001b[0m",
      "\u001b[1;31mKeyError\u001b[0m                                  Traceback (most recent call last)",
      "Input \u001b[1;32mIn [40]\u001b[0m, in \u001b[0;36m<cell line: 9>\u001b[1;34m()\u001b[0m\n\u001b[0;32m      7\u001b[0m i \u001b[38;5;241m=\u001b[39m \u001b[38;5;241m0\u001b[39m\n\u001b[0;32m      9\u001b[0m \u001b[38;5;28;01mwhile\u001b[39;00m i \u001b[38;5;241m<\u001b[39m\u001b[38;5;241m=\u001b[39m n:\n\u001b[1;32m---> 10\u001b[0m     country \u001b[38;5;241m=\u001b[39m \u001b[43mcountry_Student\u001b[49m\u001b[43m[\u001b[49m\u001b[43m(\u001b[49m\u001b[43mstudentList\u001b[49m\u001b[43m[\u001b[49m\u001b[43mi\u001b[49m\u001b[43m]\u001b[49m\u001b[43m)\u001b[49m\u001b[43m]\u001b[49m\n\u001b[0;32m     11\u001b[0m     countryList\u001b[38;5;241m.\u001b[39mappend(country)\n\u001b[0;32m     12\u001b[0m     i \u001b[38;5;241m=\u001b[39m i\u001b[38;5;241m+\u001b[39m\u001b[38;5;241m1\u001b[39m\n",
      "\u001b[1;31mKeyError\u001b[0m: 272144"
     ]
    }
   ],
   "source": [
    "studentList = student_learning['student_id'].unique().tolist()\n",
    "\n",
    "global countryList\n",
    "countryList = []\n",
    "\n",
    "n = len(studentList)\n",
    "i = 0\n",
    "\n",
    "while i <= n:\n",
    "    country = country_Student[(studentList[i])]\n",
    "    countryList.append(country)\n",
    "    i = i+1\n",
    "    \n",
    "return countryList\n",
    "    \n",
    "    \n",
    "    "
   ]
  },
  {
   "cell_type": "code",
   "execution_count": 30,
   "id": "21c12219-5dee-40a2-855e-05066c2f09af",
   "metadata": {},
   "outputs": [
    {
     "data": {
      "text/plain": [
       "'IN'"
      ]
     },
     "execution_count": 30,
     "metadata": {},
     "output_type": "execute_result"
    }
   ],
   "source": [
    "i = 0\n",
    "studentList[i]\n",
    "ID = studentList[i]\n",
    "country = country_Student[ID]\n",
    "country"
   ]
  }
 ],
 "metadata": {
  "kernelspec": {
   "display_name": "Python 3 (ipykernel)",
   "language": "python",
   "name": "python3"
  },
  "language_info": {
   "codemirror_mode": {
    "name": "ipython",
    "version": 3
   },
   "file_extension": ".py",
   "mimetype": "text/x-python",
   "name": "python",
   "nbconvert_exporter": "python",
   "pygments_lexer": "ipython3",
   "version": "3.10.6"
  }
 },
 "nbformat": 4,
 "nbformat_minor": 5
}
